{
 "cells": [
  {
   "cell_type": "markdown",
   "id": "418d20b4",
   "metadata": {},
   "source": [
    "### Author: Allan R. Jeeboo \n",
    "### Preferred Name: Vyncent S. A. van der Wolvenhuizen \n",
    "### Affiliation: Data Science student at TripleTen \n",
    "### Email: vanderwolvenhuizen.vyncent@proton.me\n",
    "### Date Started: 2025-07-02 \n",
    "### Last Updated: 2025-08-15 10:34 \n",
    "--- \n",
    "--- "
   ]
  },
  {
   "cell_type": "markdown",
   "id": "50574f7c",
   "metadata": {},
   "source": [
    "# 1.0 Introduction \n",
    "\n",
    "In this project, we'll be placed in this scenario: \n",
    "Rusty Bargain used car sales service is developing an app to attract new customers. In that app, we can quickly find out the market value of our car. We have access to historical data: technical specifications, trim versions, and prices. We need to build the model to determine the value. \n",
    "\n",
    "Rusty Bargain is interested in:\n",
    "\n",
    "- The quality of the prediction\n",
    "- The speed of the prediction\n",
    "- The time required for training \n",
    "\n",
    "We'll train different models with various hyperparameters, then implement and compare gradient boosting methods with random forest, decision tree, and linear regression. We'll also use the RMSE metric to evaluate the models.\n",
    "\n",
    "**Project Workflow:** \n",
    "\n",
    "1.0 Introduction \n",
    "- 1.1 Data Import & Overview \n",
    "- 1.2 Data Description \n",
    "- 1.3 Chapter 1 Summary \n",
    "\n",
    "2.0 Data Preprocessing \n",
    "- 2.1 Column Adjustments \n",
    "- 2.2 NaNs \n",
    "- 2.3 Duplicates \n",
    "- 2.4 Chapter 2 Summary \n",
    "\n",
    "3.0 EDA (Exploratory Data Analysis) \n",
    "- 3.1 Price \n",
    "- 3.2 Vehicle Type \n",
    "- 3.3 Registration Year \n",
    "- 3.4 Gearbox \n",
    "- 3.5 Power \n",
    "- 3.6 Model \n",
    "- 3.7 Kilometers \n",
    "- 3.8 Registration Month \n",
    "- 3.9 Fuel Type \n",
    "- 3.10 Brand \n",
    "- 3.11 Not Repaired \n",
    "- 3.12 Chapter 3 Summary \n",
    "\n",
    "4.0 Modeling \n",
    "- 4.1 Ordinal Encoding & Data Splitting \n",
    "    - 4.1.1 Ordinal Encoding \n",
    "    - 4.1.2 Data Splitting \n",
    "- 4.2 Linear Regression \n",
    "- 4.3 Decision Tree Regression \n",
    "- 4.4 Random Forest Regressor \n",
    "- 4.5 Cat Boost Regressor \n",
    "- 4.6 LGBM Regressor \n",
    "- 4.7 XGB Regressor \n",
    "- 4.8 Chapter 4 Summary \n",
    "\n",
    "5.0 Conclusion\n",
    "\n",
    "--- \n",
    "--- "
   ]
  },
  {
   "cell_type": "markdown",
   "id": "928d7167",
   "metadata": {},
   "source": [
    "### 1.1 Data Import & Overview \n",
    "Let's begin by importing the necessary modules and loading the dataset. We'll then examine the first few rows and review the dataset's structure to gain an initial understanding of the data we'll be working with. "
   ]
  },
  {
   "cell_type": "code",
   "execution_count": 57,
   "id": "22e2f2cc",
   "metadata": {},
   "outputs": [],
   "source": [
    "import matplotlib.pyplot as plt \n",
    "import numpy as np \n",
    "import pandas as pd \n",
    "import seaborn as sns \n",
    "import time \n",
    "\n",
    "from sklearn.ensemble import RandomForestRegressor\n",
    "from sklearn.linear_model import LinearRegression \n",
    "from sklearn.metrics import mean_squared_error\n",
    "from sklearn.model_selection import GridSearchCV, train_test_split \n",
    "from sklearn.preprocessing import OrdinalEncoder, StandardScaler \n",
    "from sklearn.tree import DecisionTreeRegressor \n",
    "\n",
    "from catboost import CatBoostRegressor\n",
    "from lightgbm import LGBMRegressor\n",
    "from xgboost import XGBRegressor\n",
    "\n",
    "df = pd.read_csv('/datasets/car_data.csv') "
   ]
  },
  {
   "cell_type": "code",
   "execution_count": 58,
   "id": "dda44b5a",
   "metadata": {},
   "outputs": [
    {
     "data": {
      "text/html": [
       "<div>\n",
       "<style scoped>\n",
       "    .dataframe tbody tr th:only-of-type {\n",
       "        vertical-align: middle;\n",
       "    }\n",
       "\n",
       "    .dataframe tbody tr th {\n",
       "        vertical-align: top;\n",
       "    }\n",
       "\n",
       "    .dataframe thead th {\n",
       "        text-align: right;\n",
       "    }\n",
       "</style>\n",
       "<table border=\"1\" class=\"dataframe\">\n",
       "  <thead>\n",
       "    <tr style=\"text-align: right;\">\n",
       "      <th></th>\n",
       "      <th>DateCrawled</th>\n",
       "      <th>Price</th>\n",
       "      <th>VehicleType</th>\n",
       "      <th>RegistrationYear</th>\n",
       "      <th>Gearbox</th>\n",
       "      <th>Power</th>\n",
       "      <th>Model</th>\n",
       "      <th>Mileage</th>\n",
       "      <th>RegistrationMonth</th>\n",
       "      <th>FuelType</th>\n",
       "      <th>Brand</th>\n",
       "      <th>NotRepaired</th>\n",
       "      <th>DateCreated</th>\n",
       "      <th>NumberOfPictures</th>\n",
       "      <th>PostalCode</th>\n",
       "      <th>LastSeen</th>\n",
       "    </tr>\n",
       "  </thead>\n",
       "  <tbody>\n",
       "    <tr>\n",
       "      <th>0</th>\n",
       "      <td>24/03/2016 11:52</td>\n",
       "      <td>480</td>\n",
       "      <td>NaN</td>\n",
       "      <td>1993</td>\n",
       "      <td>manual</td>\n",
       "      <td>0</td>\n",
       "      <td>golf</td>\n",
       "      <td>150000</td>\n",
       "      <td>0</td>\n",
       "      <td>petrol</td>\n",
       "      <td>volkswagen</td>\n",
       "      <td>NaN</td>\n",
       "      <td>24/03/2016 00:00</td>\n",
       "      <td>0</td>\n",
       "      <td>70435</td>\n",
       "      <td>07/04/2016 03:16</td>\n",
       "    </tr>\n",
       "    <tr>\n",
       "      <th>1</th>\n",
       "      <td>24/03/2016 10:58</td>\n",
       "      <td>18300</td>\n",
       "      <td>coupe</td>\n",
       "      <td>2011</td>\n",
       "      <td>manual</td>\n",
       "      <td>190</td>\n",
       "      <td>NaN</td>\n",
       "      <td>125000</td>\n",
       "      <td>5</td>\n",
       "      <td>gasoline</td>\n",
       "      <td>audi</td>\n",
       "      <td>yes</td>\n",
       "      <td>24/03/2016 00:00</td>\n",
       "      <td>0</td>\n",
       "      <td>66954</td>\n",
       "      <td>07/04/2016 01:46</td>\n",
       "    </tr>\n",
       "    <tr>\n",
       "      <th>2</th>\n",
       "      <td>14/03/2016 12:52</td>\n",
       "      <td>9800</td>\n",
       "      <td>suv</td>\n",
       "      <td>2004</td>\n",
       "      <td>auto</td>\n",
       "      <td>163</td>\n",
       "      <td>grand</td>\n",
       "      <td>125000</td>\n",
       "      <td>8</td>\n",
       "      <td>gasoline</td>\n",
       "      <td>jeep</td>\n",
       "      <td>NaN</td>\n",
       "      <td>14/03/2016 00:00</td>\n",
       "      <td>0</td>\n",
       "      <td>90480</td>\n",
       "      <td>05/04/2016 12:47</td>\n",
       "    </tr>\n",
       "    <tr>\n",
       "      <th>3</th>\n",
       "      <td>17/03/2016 16:54</td>\n",
       "      <td>1500</td>\n",
       "      <td>small</td>\n",
       "      <td>2001</td>\n",
       "      <td>manual</td>\n",
       "      <td>75</td>\n",
       "      <td>golf</td>\n",
       "      <td>150000</td>\n",
       "      <td>6</td>\n",
       "      <td>petrol</td>\n",
       "      <td>volkswagen</td>\n",
       "      <td>no</td>\n",
       "      <td>17/03/2016 00:00</td>\n",
       "      <td>0</td>\n",
       "      <td>91074</td>\n",
       "      <td>17/03/2016 17:40</td>\n",
       "    </tr>\n",
       "    <tr>\n",
       "      <th>4</th>\n",
       "      <td>31/03/2016 17:25</td>\n",
       "      <td>3600</td>\n",
       "      <td>small</td>\n",
       "      <td>2008</td>\n",
       "      <td>manual</td>\n",
       "      <td>69</td>\n",
       "      <td>fabia</td>\n",
       "      <td>90000</td>\n",
       "      <td>7</td>\n",
       "      <td>gasoline</td>\n",
       "      <td>skoda</td>\n",
       "      <td>no</td>\n",
       "      <td>31/03/2016 00:00</td>\n",
       "      <td>0</td>\n",
       "      <td>60437</td>\n",
       "      <td>06/04/2016 10:17</td>\n",
       "    </tr>\n",
       "  </tbody>\n",
       "</table>\n",
       "</div>"
      ],
      "text/plain": [
       "        DateCrawled  Price VehicleType  RegistrationYear Gearbox  Power  \\\n",
       "0  24/03/2016 11:52    480         NaN              1993  manual      0   \n",
       "1  24/03/2016 10:58  18300       coupe              2011  manual    190   \n",
       "2  14/03/2016 12:52   9800         suv              2004    auto    163   \n",
       "3  17/03/2016 16:54   1500       small              2001  manual     75   \n",
       "4  31/03/2016 17:25   3600       small              2008  manual     69   \n",
       "\n",
       "   Model  Mileage  RegistrationMonth  FuelType       Brand NotRepaired  \\\n",
       "0   golf   150000                  0    petrol  volkswagen         NaN   \n",
       "1    NaN   125000                  5  gasoline        audi         yes   \n",
       "2  grand   125000                  8  gasoline        jeep         NaN   \n",
       "3   golf   150000                  6    petrol  volkswagen          no   \n",
       "4  fabia    90000                  7  gasoline       skoda          no   \n",
       "\n",
       "        DateCreated  NumberOfPictures  PostalCode          LastSeen  \n",
       "0  24/03/2016 00:00                 0       70435  07/04/2016 03:16  \n",
       "1  24/03/2016 00:00                 0       66954  07/04/2016 01:46  \n",
       "2  14/03/2016 00:00                 0       90480  05/04/2016 12:47  \n",
       "3  17/03/2016 00:00                 0       91074  17/03/2016 17:40  \n",
       "4  31/03/2016 00:00                 0       60437  06/04/2016 10:17  "
      ]
     },
     "metadata": {},
     "output_type": "display_data"
    },
    {
     "name": "stdout",
     "output_type": "stream",
     "text": [
      "(354369, 16)\n"
     ]
    }
   ],
   "source": [
    "display(df.head()) \n",
    "print(df.shape)"
   ]
  },
  {
   "cell_type": "code",
   "execution_count": 59,
   "id": "7c1e787e",
   "metadata": {},
   "outputs": [
    {
     "name": "stdout",
     "output_type": "stream",
     "text": [
      "<class 'pandas.core.frame.DataFrame'>\n",
      "RangeIndex: 354369 entries, 0 to 354368\n",
      "Data columns (total 16 columns):\n",
      " #   Column             Non-Null Count   Dtype \n",
      "---  ------             --------------   ----- \n",
      " 0   DateCrawled        354369 non-null  object\n",
      " 1   Price              354369 non-null  int64 \n",
      " 2   VehicleType        316879 non-null  object\n",
      " 3   RegistrationYear   354369 non-null  int64 \n",
      " 4   Gearbox            334536 non-null  object\n",
      " 5   Power              354369 non-null  int64 \n",
      " 6   Model              334664 non-null  object\n",
      " 7   Mileage            354369 non-null  int64 \n",
      " 8   RegistrationMonth  354369 non-null  int64 \n",
      " 9   FuelType           321474 non-null  object\n",
      " 10  Brand              354369 non-null  object\n",
      " 11  NotRepaired        283215 non-null  object\n",
      " 12  DateCreated        354369 non-null  object\n",
      " 13  NumberOfPictures   354369 non-null  int64 \n",
      " 14  PostalCode         354369 non-null  int64 \n",
      " 15  LastSeen           354369 non-null  object\n",
      "dtypes: int64(7), object(9)\n",
      "memory usage: 43.3+ MB\n"
     ]
    }
   ],
   "source": [
    "df.info() "
   ]
  },
  {
   "cell_type": "code",
   "execution_count": 60,
   "id": "0e4e2fe8-1e60-4763-95e6-739687fff6f1",
   "metadata": {},
   "outputs": [
    {
     "data": {
      "text/plain": [
       "DateCrawled              0\n",
       "Price                    0\n",
       "VehicleType          37490\n",
       "RegistrationYear         0\n",
       "Gearbox              19833\n",
       "Power                    0\n",
       "Model                19705\n",
       "Mileage                  0\n",
       "RegistrationMonth        0\n",
       "FuelType             32895\n",
       "Brand                    0\n",
       "NotRepaired          71154\n",
       "DateCreated              0\n",
       "NumberOfPictures         0\n",
       "PostalCode               0\n",
       "LastSeen                 0\n",
       "dtype: int64"
      ]
     },
     "execution_count": 60,
     "metadata": {},
     "output_type": "execute_result"
    }
   ],
   "source": [
    "df.isna().sum()"
   ]
  },
  {
   "cell_type": "markdown",
   "id": "bb3a47e3",
   "metadata": {},
   "source": [
    "---"
   ]
  },
  {
   "cell_type": "markdown",
   "id": "4d8f6466",
   "metadata": {},
   "source": [
    "### 1.2 Data Description \n",
    "\n",
    "Features:\n",
    "- DateCrawled — date profile was downloaded from the database\n",
    "- VehicleType — vehicle body type\n",
    "- RegistrationYear — vehicle registration year\n",
    "- Gearbox — gearbox type\n",
    "- Power — power (hp)\n",
    "- Model — vehicle model\n",
    "- Mileage — mileage (measured in km due to dataset's regional specifics)\n",
    "- RegistrationMonth — vehicle registration month\n",
    "- FuelType — fuel type\n",
    "- Brand — vehicle brand\n",
    "- NotRepaired — vehicle repaired or not\n",
    "- DateCreated — date of profile creation\n",
    "- NumberOfPictures — number of vehicle pictures\n",
    "- PostalCode — postal code of profile owner (user)\n",
    "- LastSeen — date of the last activity of the user\n",
    "\n",
    "Target:\n",
    "- Price — price (Euro)"
   ]
  },
  {
   "cell_type": "markdown",
   "id": "7d49d623",
   "metadata": {},
   "source": [
    "---"
   ]
  },
  {
   "cell_type": "markdown",
   "id": "92823993",
   "metadata": {},
   "source": [
    "### 1.3 Chapter 1 Summary \n",
    "\n",
    "In this chapter, we imported the dataset and essential libraries, explored the data’s structure, and clarified the meaning of each column. Several issues became apparent: the column names use capital letters, which is inconsistent with Python’s [PEP 8](https://peps.python.org/pep-0008/) style guide; there are missing values (NaNs) in the data; and three date-related columns—`DateCrawled`, `DateCreated`, and `LastSeen`—along with `NumberOfPictures` and `PostalCode`, don't contribute meaningfully to our analysis. "
   ]
  },
  {
   "cell_type": "markdown",
   "id": "bdc6056e",
   "metadata": {},
   "source": [
    "# 2.0 Data Preprocessing \n",
    "---"
   ]
  },
  {
   "cell_type": "markdown",
   "id": "2230f2e3",
   "metadata": {},
   "source": [
    "### 2.1 Column Adjustments \n",
    "\n",
    "In this section, we'll clean and standardize the dataset's columns to prepare for analysis and modeling. Specifically, we'll remove irrelevant or redundant columns, convert all column names to lowercase to ensure consistency, and rename certain columns to follow Python's PEP 8 style guidelines. These adjustments will help streamline subsequent data processing steps and improve code readability. \n",
    "\n",
    "*Note:*  \n",
    "The column originally named `mileage` will be renamed to `kilometers` to accurately reflect its units and avoid confusion. The `not_repaired` column name may also seem ambiguous, but due to a lack of further clarification in the dataset documentation, it'll remain unchanged.\n"
   ]
  },
  {
   "cell_type": "code",
   "execution_count": 61,
   "id": "3937f60d",
   "metadata": {},
   "outputs": [
    {
     "data": {
      "text/html": [
       "<div>\n",
       "<style scoped>\n",
       "    .dataframe tbody tr th:only-of-type {\n",
       "        vertical-align: middle;\n",
       "    }\n",
       "\n",
       "    .dataframe tbody tr th {\n",
       "        vertical-align: top;\n",
       "    }\n",
       "\n",
       "    .dataframe thead th {\n",
       "        text-align: right;\n",
       "    }\n",
       "</style>\n",
       "<table border=\"1\" class=\"dataframe\">\n",
       "  <thead>\n",
       "    <tr style=\"text-align: right;\">\n",
       "      <th></th>\n",
       "      <th>price</th>\n",
       "      <th>vehicle_type</th>\n",
       "      <th>registration_year</th>\n",
       "      <th>gearbox</th>\n",
       "      <th>power</th>\n",
       "      <th>model</th>\n",
       "      <th>kilometers</th>\n",
       "      <th>registration_month</th>\n",
       "      <th>fuel_type</th>\n",
       "      <th>brand</th>\n",
       "      <th>not_repaired</th>\n",
       "    </tr>\n",
       "  </thead>\n",
       "  <tbody>\n",
       "    <tr>\n",
       "      <th>0</th>\n",
       "      <td>480</td>\n",
       "      <td>NaN</td>\n",
       "      <td>1993</td>\n",
       "      <td>manual</td>\n",
       "      <td>0</td>\n",
       "      <td>golf</td>\n",
       "      <td>150000</td>\n",
       "      <td>0</td>\n",
       "      <td>petrol</td>\n",
       "      <td>volkswagen</td>\n",
       "      <td>NaN</td>\n",
       "    </tr>\n",
       "    <tr>\n",
       "      <th>1</th>\n",
       "      <td>18300</td>\n",
       "      <td>coupe</td>\n",
       "      <td>2011</td>\n",
       "      <td>manual</td>\n",
       "      <td>190</td>\n",
       "      <td>NaN</td>\n",
       "      <td>125000</td>\n",
       "      <td>5</td>\n",
       "      <td>gasoline</td>\n",
       "      <td>audi</td>\n",
       "      <td>yes</td>\n",
       "    </tr>\n",
       "    <tr>\n",
       "      <th>2</th>\n",
       "      <td>9800</td>\n",
       "      <td>suv</td>\n",
       "      <td>2004</td>\n",
       "      <td>auto</td>\n",
       "      <td>163</td>\n",
       "      <td>grand</td>\n",
       "      <td>125000</td>\n",
       "      <td>8</td>\n",
       "      <td>gasoline</td>\n",
       "      <td>jeep</td>\n",
       "      <td>NaN</td>\n",
       "    </tr>\n",
       "    <tr>\n",
       "      <th>3</th>\n",
       "      <td>1500</td>\n",
       "      <td>small</td>\n",
       "      <td>2001</td>\n",
       "      <td>manual</td>\n",
       "      <td>75</td>\n",
       "      <td>golf</td>\n",
       "      <td>150000</td>\n",
       "      <td>6</td>\n",
       "      <td>petrol</td>\n",
       "      <td>volkswagen</td>\n",
       "      <td>no</td>\n",
       "    </tr>\n",
       "    <tr>\n",
       "      <th>4</th>\n",
       "      <td>3600</td>\n",
       "      <td>small</td>\n",
       "      <td>2008</td>\n",
       "      <td>manual</td>\n",
       "      <td>69</td>\n",
       "      <td>fabia</td>\n",
       "      <td>90000</td>\n",
       "      <td>7</td>\n",
       "      <td>gasoline</td>\n",
       "      <td>skoda</td>\n",
       "      <td>no</td>\n",
       "    </tr>\n",
       "  </tbody>\n",
       "</table>\n",
       "</div>"
      ],
      "text/plain": [
       "   price vehicle_type  registration_year gearbox  power  model  kilometers  \\\n",
       "0    480          NaN               1993  manual      0   golf      150000   \n",
       "1  18300        coupe               2011  manual    190    NaN      125000   \n",
       "2   9800          suv               2004    auto    163  grand      125000   \n",
       "3   1500        small               2001  manual     75   golf      150000   \n",
       "4   3600        small               2008  manual     69  fabia       90000   \n",
       "\n",
       "   registration_month fuel_type       brand not_repaired  \n",
       "0                   0    petrol  volkswagen          NaN  \n",
       "1                   5  gasoline        audi          yes  \n",
       "2                   8  gasoline        jeep          NaN  \n",
       "3                   6    petrol  volkswagen           no  \n",
       "4                   7  gasoline       skoda           no  "
      ]
     },
     "execution_count": 61,
     "metadata": {},
     "output_type": "execute_result"
    }
   ],
   "source": [
    "df.drop(columns=['DateCrawled', \n",
    "                 'DateCreated', \n",
    "                 'NumberOfPictures', \n",
    "                 'PostalCode', \n",
    "                 'LastSeen'], \n",
    "                 axis=1, \n",
    "                 inplace=True) \n",
    "\n",
    "df.columns = df.columns.str.lower() \n",
    "\n",
    "df.rename(columns={'vehicletype': 'vehicle_type', \n",
    "                   'registrationyear': 'registration_year', \n",
    "                   'mileage': 'kilometers', \n",
    "                   'registrationmonth': 'registration_month', \n",
    "                   'fueltype': 'fuel_type', \n",
    "                   'notrepaired': 'not_repaired'}, \n",
    "                   inplace=True) \n",
    "\n",
    "df.head() "
   ]
  },
  {
   "cell_type": "markdown",
   "id": "c917f56d",
   "metadata": {},
   "source": [
    "---"
   ]
  },
  {
   "cell_type": "markdown",
   "id": "f2e979e2",
   "metadata": {},
   "source": [
    "### 2.2 NaNs \n",
    "In this subsection, we'll address missing values (NaNs) in the dataset. We'll begin by identifying which columns contain NaNs and examining the nature of these columns. We'll then consider appropriate imputation strategies to preserve the integrity of the data. This process will ensure our dataset is complete and ready for subsequent analysis and modeling. "
   ]
  },
  {
   "cell_type": "code",
   "execution_count": 62,
   "id": "54132b55",
   "metadata": {},
   "outputs": [
    {
     "data": {
      "text/plain": [
       "price                     0\n",
       "vehicle_type          37490\n",
       "registration_year         0\n",
       "gearbox               19833\n",
       "power                     0\n",
       "model                 19705\n",
       "kilometers                0\n",
       "registration_month        0\n",
       "fuel_type             32895\n",
       "brand                     0\n",
       "not_repaired          71154\n",
       "dtype: int64"
      ]
     },
     "execution_count": 62,
     "metadata": {},
     "output_type": "execute_result"
    }
   ],
   "source": [
    "df.isna().sum() "
   ]
  },
  {
   "cell_type": "markdown",
   "id": "62e87339",
   "metadata": {},
   "source": [
    "There are several columns with missing values: `vehicle_type`, `gearbox`, `model`, `fuel_type`, and `not_repaired`. Since these are all categorical features and we don't know the values, it would be appropriate to fill the missing values with 'unknown'. This approach will prevent a risk of bias."
   ]
  },
  {
   "cell_type": "code",
   "execution_count": 63,
   "id": "eb77fa36",
   "metadata": {},
   "outputs": [],
   "source": [
    "df = df.fillna('unknown')"
   ]
  },
  {
   "cell_type": "code",
   "execution_count": 64,
   "id": "4541ef20",
   "metadata": {},
   "outputs": [
    {
     "data": {
      "text/plain": [
       "price                 0\n",
       "vehicle_type          0\n",
       "registration_year     0\n",
       "gearbox               0\n",
       "power                 0\n",
       "model                 0\n",
       "kilometers            0\n",
       "registration_month    0\n",
       "fuel_type             0\n",
       "brand                 0\n",
       "not_repaired          0\n",
       "dtype: int64"
      ]
     },
     "execution_count": 64,
     "metadata": {},
     "output_type": "execute_result"
    }
   ],
   "source": [
    "df.isna().sum()"
   ]
  },
  {
   "cell_type": "markdown",
   "id": "74175bb3",
   "metadata": {},
   "source": [
    "Now that we've handled the missing values, the next step is to check for and remove any duplicate rows in the dataset.\n",
    "\n",
    "---"
   ]
  },
  {
   "cell_type": "markdown",
   "id": "e62f8a56",
   "metadata": {},
   "source": [
    "### 2.3 Duplicates \n",
    "\n",
    "In this section, we'll identify and remove any duplicate rows from the dataset to ensure data quality and prevent bias in our analysis. "
   ]
  },
  {
   "cell_type": "code",
   "execution_count": 65,
   "id": "0a2da246",
   "metadata": {},
   "outputs": [
    {
     "data": {
      "text/plain": [
       "27543"
      ]
     },
     "execution_count": 65,
     "metadata": {},
     "output_type": "execute_result"
    }
   ],
   "source": [
    "df.duplicated().sum()"
   ]
  },
  {
   "cell_type": "code",
   "execution_count": 66,
   "id": "42c29364",
   "metadata": {},
   "outputs": [
    {
     "data": {
      "text/html": [
       "<div>\n",
       "<style scoped>\n",
       "    .dataframe tbody tr th:only-of-type {\n",
       "        vertical-align: middle;\n",
       "    }\n",
       "\n",
       "    .dataframe tbody tr th {\n",
       "        vertical-align: top;\n",
       "    }\n",
       "\n",
       "    .dataframe thead th {\n",
       "        text-align: right;\n",
       "    }\n",
       "</style>\n",
       "<table border=\"1\" class=\"dataframe\">\n",
       "  <thead>\n",
       "    <tr style=\"text-align: right;\">\n",
       "      <th></th>\n",
       "      <th>price</th>\n",
       "      <th>vehicle_type</th>\n",
       "      <th>registration_year</th>\n",
       "      <th>gearbox</th>\n",
       "      <th>power</th>\n",
       "      <th>model</th>\n",
       "      <th>kilometers</th>\n",
       "      <th>registration_month</th>\n",
       "      <th>fuel_type</th>\n",
       "      <th>brand</th>\n",
       "      <th>not_repaired</th>\n",
       "    </tr>\n",
       "  </thead>\n",
       "  <tbody>\n",
       "    <tr>\n",
       "      <th>0</th>\n",
       "      <td>480</td>\n",
       "      <td>unknown</td>\n",
       "      <td>1993</td>\n",
       "      <td>manual</td>\n",
       "      <td>0</td>\n",
       "      <td>golf</td>\n",
       "      <td>150000</td>\n",
       "      <td>0</td>\n",
       "      <td>petrol</td>\n",
       "      <td>volkswagen</td>\n",
       "      <td>unknown</td>\n",
       "    </tr>\n",
       "    <tr>\n",
       "      <th>1</th>\n",
       "      <td>18300</td>\n",
       "      <td>coupe</td>\n",
       "      <td>2011</td>\n",
       "      <td>manual</td>\n",
       "      <td>190</td>\n",
       "      <td>unknown</td>\n",
       "      <td>125000</td>\n",
       "      <td>5</td>\n",
       "      <td>gasoline</td>\n",
       "      <td>audi</td>\n",
       "      <td>yes</td>\n",
       "    </tr>\n",
       "    <tr>\n",
       "      <th>2</th>\n",
       "      <td>9800</td>\n",
       "      <td>suv</td>\n",
       "      <td>2004</td>\n",
       "      <td>auto</td>\n",
       "      <td>163</td>\n",
       "      <td>grand</td>\n",
       "      <td>125000</td>\n",
       "      <td>8</td>\n",
       "      <td>gasoline</td>\n",
       "      <td>jeep</td>\n",
       "      <td>unknown</td>\n",
       "    </tr>\n",
       "    <tr>\n",
       "      <th>3</th>\n",
       "      <td>1500</td>\n",
       "      <td>small</td>\n",
       "      <td>2001</td>\n",
       "      <td>manual</td>\n",
       "      <td>75</td>\n",
       "      <td>golf</td>\n",
       "      <td>150000</td>\n",
       "      <td>6</td>\n",
       "      <td>petrol</td>\n",
       "      <td>volkswagen</td>\n",
       "      <td>no</td>\n",
       "    </tr>\n",
       "    <tr>\n",
       "      <th>4</th>\n",
       "      <td>3600</td>\n",
       "      <td>small</td>\n",
       "      <td>2008</td>\n",
       "      <td>manual</td>\n",
       "      <td>69</td>\n",
       "      <td>fabia</td>\n",
       "      <td>90000</td>\n",
       "      <td>7</td>\n",
       "      <td>gasoline</td>\n",
       "      <td>skoda</td>\n",
       "      <td>no</td>\n",
       "    </tr>\n",
       "  </tbody>\n",
       "</table>\n",
       "</div>"
      ],
      "text/plain": [
       "   price vehicle_type  registration_year gearbox  power    model  kilometers  \\\n",
       "0    480      unknown               1993  manual      0     golf      150000   \n",
       "1  18300        coupe               2011  manual    190  unknown      125000   \n",
       "2   9800          suv               2004    auto    163    grand      125000   \n",
       "3   1500        small               2001  manual     75     golf      150000   \n",
       "4   3600        small               2008  manual     69    fabia       90000   \n",
       "\n",
       "   registration_month fuel_type       brand not_repaired  \n",
       "0                   0    petrol  volkswagen      unknown  \n",
       "1                   5  gasoline        audi          yes  \n",
       "2                   8  gasoline        jeep      unknown  \n",
       "3                   6    petrol  volkswagen           no  \n",
       "4                   7  gasoline       skoda           no  "
      ]
     },
     "metadata": {},
     "output_type": "display_data"
    },
    {
     "name": "stdout",
     "output_type": "stream",
     "text": [
      "Number of duplicates: 0\n",
      "Shape: (326826, 11)\n"
     ]
    }
   ],
   "source": [
    "df.drop_duplicates(inplace=True) \n",
    "display(df.head()) \n",
    "print(f'Number of duplicates: {df.duplicated().sum()}')\n",
    "print(f'Shape: {df.shape}')"
   ]
  },
  {
   "cell_type": "markdown",
   "id": "fc7b1d02",
   "metadata": {},
   "source": [
    "---"
   ]
  },
  {
   "cell_type": "markdown",
   "id": "94981ec5",
   "metadata": {},
   "source": [
    "### 2.4 Chapter 2 Summary \n",
    "In this chapter, we performed essential data preprocessing steps to prepare the dataset for modeling. We removed irrelevant columns, standardized column names to follow PEP 8 guidelines, and addressed missing values in categorical features by filling them with the mode. Duplicate rows were identified and dropped to ensure data quality. These steps resulted in a clean and consistent dataset, ready for further analysis and model development.\n",
    "\n",
    "---\n",
    "---"
   ]
  },
  {
   "cell_type": "markdown",
   "id": "91a054ce",
   "metadata": {},
   "source": [
    "# 3.0 EDA \n",
    "In this chapter, we'll conduct an exploratory data analysis (EDA) of the used car dataset. We'll systematically examine each feature, visualizing distributions and identifying potential anomalies or patterns. The analysis will include summary statistics, histograms, and bar plots for both numerical and categorical variables. We'll also investigate the relationships between features and the target variable–price. This process will help us understand the structure of the data, detect outliers, and inform our approach to data preprocessing and modeling in subsequent chapters. \n",
    "\n",
    "**Workflow Overview:**\n",
    "\n",
    "Below is a workflow summary for this chapter with a reminder of what each column represents.:\n",
    "\n",
    "**Reminder: Column Descriptions**\n",
    "\n",
    "- 3.1 `price`: Target variable, car price in Euros.\n",
    "- 3.2 `vehicle_type`: Body type of the vehicle (e.g., sedan, SUV).\n",
    "- 3.3 `registration_year`: Year the vehicle was registered.\n",
    "- 3.4 `gearbox`: Type of gearbox (manual or automatic).\n",
    "- 3.5 `power`: Engine power in horsepower (hp).\n",
    "- 3.6 `model`: Vehicle model.\n",
    "- 3.7 `kilometers`: Kilometers displayed on the odometer.\n",
    "- 3.8 `registration_month`: Month the vehicle was registered.\n",
    "- 3.9 `fuel_type`: Type of fuel used (e.g., petrol, diesel).\n",
    "- 3.10 `brand`: Vehicle brand (encoded).\n",
    "- 3.11 `not_repaired`: Whether the vehicle has been repaired (yes/no, encoded).\n",
    "- 3.12 Chapter summary"
   ]
  },
  {
   "cell_type": "markdown",
   "id": "790f18e8",
   "metadata": {},
   "source": [
    "---"
   ]
  },
  {
   "cell_type": "markdown",
   "id": "f927040d",
   "metadata": {},
   "source": [
    "### 3.1 Price "
   ]
  },
  {
   "cell_type": "code",
   "execution_count": 67,
   "id": "8be2a9ed",
   "metadata": {},
   "outputs": [
    {
     "data": {
      "text/plain": [
       "count    326826.000000\n",
       "mean       4403.747330\n",
       "std        4518.209808\n",
       "min           0.000000\n",
       "25%        1000.000000\n",
       "50%        2700.000000\n",
       "75%        6350.000000\n",
       "max       20000.000000\n",
       "Name: price, dtype: float64"
      ]
     },
     "execution_count": 67,
     "metadata": {},
     "output_type": "execute_result"
    }
   ],
   "source": [
    "df.price.describe() "
   ]
  },
  {
   "cell_type": "markdown",
   "id": "4dead507",
   "metadata": {},
   "source": [
    "Immediately, I've noticed that the maximum value is €20,000—more than three times higher than the 75th percentile (€6,400) and about 7.4 times higher than the median (€2,700). This suggests that price is heavily right-skewed. I suspect there's a dense cluster of values at the lower end, with some significant gaps and outliers at the higher end. To confirm this, let's create a histogram and look for potential outliers."
   ]
  },
  {
   "cell_type": "code",
   "execution_count": 68,
   "id": "5317c135-beca-4864-9b39-13ab4a33388b",
   "metadata": {},
   "outputs": [
    {
     "data": {
      "text/plain": [
       "price                 0\n",
       "vehicle_type          0\n",
       "registration_year     0\n",
       "gearbox               0\n",
       "power                 0\n",
       "model                 0\n",
       "kilometers            0\n",
       "registration_month    0\n",
       "fuel_type             0\n",
       "brand                 0\n",
       "not_repaired          0\n",
       "dtype: int64"
      ]
     },
     "execution_count": 68,
     "metadata": {},
     "output_type": "execute_result"
    }
   ],
   "source": [
    "df.isna().sum()"
   ]
  },
  {
   "cell_type": "code",
   "execution_count": 69,
   "id": "e86ad5dd-b10e-43f0-8351-ab78bb9b77d1",
   "metadata": {},
   "outputs": [],
   "source": [
    "df = df[df['price']>500]"
   ]
  },
  {
   "cell_type": "code",
   "execution_count": 70,
   "id": "1d5d8f24-0b9e-44cb-9ee8-0405fde6364d",
   "metadata": {},
   "outputs": [
    {
     "data": {
      "text/plain": [
       "count    288028.000000\n",
       "mean       4964.713115\n",
       "std        4528.635643\n",
       "min         501.000000\n",
       "25%        1500.000000\n",
       "50%        3300.000000\n",
       "75%        6999.000000\n",
       "max       20000.000000\n",
       "Name: price, dtype: float64"
      ]
     },
     "execution_count": 70,
     "metadata": {},
     "output_type": "execute_result"
    }
   ],
   "source": [
    "df.price.describe() "
   ]
  },
  {
   "cell_type": "code",
   "execution_count": 71,
   "id": "c21045f8-66b0-4198-9945-2dd734107c1a",
   "metadata": {},
   "outputs": [
    {
     "data": {
      "text/plain": [
       "price                 0\n",
       "vehicle_type          0\n",
       "registration_year     0\n",
       "gearbox               0\n",
       "power                 0\n",
       "model                 0\n",
       "kilometers            0\n",
       "registration_month    0\n",
       "fuel_type             0\n",
       "brand                 0\n",
       "not_repaired          0\n",
       "dtype: int64"
      ]
     },
     "execution_count": 71,
     "metadata": {},
     "output_type": "execute_result"
    }
   ],
   "source": [
    "df.isna().sum()"
   ]
  },
  {
   "cell_type": "code",
   "execution_count": 1,
   "id": "8030e24b",
   "metadata": {},
   "outputs": [
    {
     "ename": "NameError",
     "evalue": "name 'sns' is not defined",
     "output_type": "error",
     "traceback": [
      "\u001b[1;31m---------------------------------------------------------------------------\u001b[0m",
      "\u001b[1;31mNameError\u001b[0m                                 Traceback (most recent call last)",
      "Cell \u001b[1;32mIn[1], line 1\u001b[0m\n\u001b[1;32m----> 1\u001b[0m sns\u001b[38;5;241m.\u001b[39mhistplot(df\u001b[38;5;241m.\u001b[39mprice, \n\u001b[0;32m      2\u001b[0m              bins\u001b[38;5;241m=\u001b[39m\u001b[38;5;241m50\u001b[39m, \n\u001b[0;32m      3\u001b[0m              kde\u001b[38;5;241m=\u001b[39m\u001b[38;5;28;01mTrue\u001b[39;00m, \n\u001b[0;32m      4\u001b[0m              color\u001b[38;5;241m=\u001b[39m\u001b[38;5;124m'\u001b[39m\u001b[38;5;124mblue\u001b[39m\u001b[38;5;124m'\u001b[39m, \n\u001b[0;32m      5\u001b[0m              edgecolor\u001b[38;5;241m=\u001b[39m\u001b[38;5;124m'\u001b[39m\u001b[38;5;124mblack\u001b[39m\u001b[38;5;124m'\u001b[39m) \n\u001b[0;32m      7\u001b[0m plt\u001b[38;5;241m.\u001b[39mxlabel(\u001b[38;5;124m'\u001b[39m\u001b[38;5;124mPrice\u001b[39m\u001b[38;5;124m'\u001b[39m)\n\u001b[0;32m      8\u001b[0m plt\u001b[38;5;241m.\u001b[39mylabel(\u001b[38;5;124m'\u001b[39m\u001b[38;5;124mFrequency\u001b[39m\u001b[38;5;124m'\u001b[39m)\n",
      "\u001b[1;31mNameError\u001b[0m: name 'sns' is not defined"
     ]
    }
   ],
   "source": [
    "sns.histplot(df.price, \n",
    "             bins=50, \n",
    "             kde=True, \n",
    "             color='blue', \n",
    "             edgecolor='black') \n",
    "\n",
    "plt.xlabel('Price')\n",
    "plt.ylabel('Frequency')\n",
    "plt.title('Price Distribution')"
   ]
  },
  {
   "cell_type": "markdown",
   "id": "0334167b",
   "metadata": {},
   "source": [
    "- I've noticed that the maximum value is €20,000—more than three times higher than the 75th percentile (€6,400) and about 7.4 times higher than the median (€2,700). This suggests that price is heavily right-skewed. \n",
    "- The minimum value in the set is €0.00, which shouldn't be there due to what the data pertains to. We'll filter those out. Despite there being listings as low as €100, I cannot say with great certainty that those are inded untrue values; therefore, I shall leave them in the data.\n",
    "- I suspect there's a dense cluster of values at the lower end, with some significant gaps and outliers at the higher end To confirm this, let's create a histogram and look for potential outliers."
   ]
  },
  {
   "cell_type": "markdown",
   "id": "a0c524a2",
   "metadata": {},
   "source": [
    "---"
   ]
  },
  {
   "cell_type": "markdown",
   "id": "60ffe6d3",
   "metadata": {},
   "source": [
    "### 3.2 Vehicle Type"
   ]
  },
  {
   "cell_type": "code",
   "execution_count": 73,
   "id": "a4fc7fc2",
   "metadata": {},
   "outputs": [
    {
     "data": {
      "text/plain": [
       "sedan          76780\n",
       "small          60767\n",
       "wagon          54574\n",
       "bus            25741\n",
       "unknown        25101\n",
       "convertible    18029\n",
       "coupe          13707\n",
       "suv            10697\n",
       "other           2632\n",
       "Name: vehicle_type, dtype: int64"
      ]
     },
     "execution_count": 73,
     "metadata": {},
     "output_type": "execute_result"
    }
   ],
   "source": [
    "df.vehicle_type.value_counts()"
   ]
  },
  {
   "cell_type": "code",
   "execution_count": 74,
   "id": "d9b32f6c",
   "metadata": {},
   "outputs": [
    {
     "data": {
      "image/png": "[encoded data removed]",
      "text/plain": [
       "<Figure size 640x480 with 1 Axes>"
      ]
     },
     "metadata": {},
     "output_type": "display_data"
    }
   ],
   "source": [
    "vehicle_counts = df['vehicle_type'].value_counts()\n",
    "sns.barplot(x=vehicle_counts.index, \n",
    "            y=vehicle_counts.values)\n",
    "plt.xlabel('Vehicle Type')\n",
    "plt.ylabel('Count')\n",
    "plt.title('Count of Each Vehicle Type')\n",
    "plt.xticks(rotation=45)\n",
    "plt.show()"
   ]
  },
  {
   "cell_type": "markdown",
   "id": "a988b0dc",
   "metadata": {},
   "source": [
    "The data revealed that sedans are the most common vehicle type, followed by small cars and wagons. Less common types include buses, convertibles, coupes, SUVs, and vehicles categorized as \"other.\" \n",
    "\n",
    "---"
   ]
  },
  {
   "cell_type": "markdown",
   "id": "e05f3d75",
   "metadata": {},
   "source": [
    "### 3.3 Registration Year"
   ]
  },
  {
   "cell_type": "code",
   "execution_count": 75,
   "id": "0c5378fd",
   "metadata": {},
   "outputs": [
    {
     "data": {
      "text/plain": [
       "count    288028.000000\n",
       "mean       2004.225891\n",
       "std          66.213108\n",
       "min        1000.000000\n",
       "25%        2000.000000\n",
       "50%        2004.000000\n",
       "75%        2008.000000\n",
       "max        9999.000000\n",
       "Name: registration_year, dtype: float64"
      ]
     },
     "execution_count": 75,
     "metadata": {},
     "output_type": "execute_result"
    }
   ],
   "source": [
    "df.registration_year.describe()"
   ]
  },
  {
   "cell_type": "code",
   "execution_count": 76,
   "id": "60b95e45",
   "metadata": {},
   "outputs": [
    {
     "data": {
      "text/plain": [
       "2005    19270\n",
       "2006    17850\n",
       "2000    17719\n",
       "2003    17518\n",
       "2004    17458\n",
       "        ...  \n",
       "1949        1\n",
       "5300        1\n",
       "8888        1\n",
       "7100        1\n",
       "2290        1\n",
       "Name: registration_year, Length: 127, dtype: int64"
      ]
     },
     "execution_count": 76,
     "metadata": {},
     "output_type": "execute_result"
    }
   ],
   "source": [
    "df.registration_year.value_counts()"
   ]
  },
  {
   "cell_type": "markdown",
   "id": "1de53625",
   "metadata": {},
   "source": [
    "Wow, I didn't know that they had cars in the year 1000! (*I'm joking*) We even have cars in stock from nearly 8000 years in the future! As we can see, there are some values that are very much out of place, so let's address this by constricting the range to be within 1900 and 2025 (inclusive)."
   ]
  },
  {
   "cell_type": "code",
   "execution_count": 77,
   "id": "7b89364e",
   "metadata": {},
   "outputs": [
    {
     "data": {
      "text/plain": [
       "(288028, 11)"
      ]
     },
     "execution_count": 77,
     "metadata": {},
     "output_type": "execute_result"
    }
   ],
   "source": [
    "df.shape"
   ]
  },
  {
   "cell_type": "code",
   "execution_count": 78,
   "id": "af2cd468",
   "metadata": {},
   "outputs": [
    {
     "data": {
      "text/plain": [
       "price                 0\n",
       "vehicle_type          0\n",
       "registration_year     0\n",
       "gearbox               0\n",
       "power                 0\n",
       "model                 0\n",
       "kilometers            0\n",
       "registration_month    0\n",
       "fuel_type             0\n",
       "brand                 0\n",
       "not_repaired          0\n",
       "dtype: int64"
      ]
     },
     "execution_count": 78,
     "metadata": {},
     "output_type": "execute_result"
    }
   ],
   "source": [
    "df = df[(df['registration_year'] >= 1900) & (df['registration_year'] <= 2025)]\n",
    "df.isna().sum()"
   ]
  },
  {
   "cell_type": "code",
   "execution_count": 79,
   "id": "cd3b213a",
   "metadata": {},
   "outputs": [
    {
     "data": {
      "text/plain": [
       "(287958, 11)"
      ]
     },
     "execution_count": 79,
     "metadata": {},
     "output_type": "execute_result"
    }
   ],
   "source": [
    "df.shape"
   ]
  },
  {
   "cell_type": "markdown",
   "id": "acc386f7",
   "metadata": {},
   "source": [
    "After filtering, 161 rows were removed from the dataset due to invalid registration years. Let's visualize the updated distribution with a histogram."
   ]
  },
  {
   "cell_type": "code",
   "execution_count": 80,
   "id": "61491ba2",
   "metadata": {},
   "outputs": [
    {
     "data": {
      "text/plain": [
       "<AxesSubplot:xlabel='registration_year', ylabel='Count'>"
      ]
     },
     "execution_count": 80,
     "metadata": {},
     "output_type": "execute_result"
    },
    {
     "data": {
      "image/png": "[encoded data removed]",
      "text/plain": [
       "<Figure size 640x480 with 1 Axes>"
      ]
     },
     "metadata": {},
     "output_type": "display_data"
    }
   ],
   "source": [
    "sns.histplot(df.registration_year, \n",
    "             bins=20, \n",
    "             kde=True, \n",
    "             color='blue', \n",
    "             edgecolor='black')"
   ]
  },
  {
   "cell_type": "markdown",
   "id": "77273889",
   "metadata": {},
   "source": [
    "The analysis of the `registration_year` feature revealed several implausible values, including years far in the past and future. To address this, the dataset was filtered to include only vehicles registered between 1900 and 2025. This adjustment removed a small number of records with invalid years, resulting in a more realistic and reliable distribution. The majority of vehicles were registered after 1960, with very few cars from earlier years. This cleaned feature now provides a trustworthy basis for further analysis and modeling. \n",
    "\n",
    "---"
   ]
  },
  {
   "cell_type": "markdown",
   "id": "093682fa",
   "metadata": {},
   "source": [
    "### 3.4 Gearbox"
   ]
  },
  {
   "cell_type": "code",
   "execution_count": 81,
   "id": "5f891f8d",
   "metadata": {},
   "outputs": [
    {
     "data": {
      "text/plain": [
       "array(['manual', 'auto', 'unknown'], dtype=object)"
      ]
     },
     "execution_count": 81,
     "metadata": {},
     "output_type": "execute_result"
    }
   ],
   "source": [
    "df.gearbox.unique()"
   ]
  },
  {
   "cell_type": "code",
   "execution_count": 82,
   "id": "6cfb2c44",
   "metadata": {},
   "outputs": [
    {
     "data": {
      "text/plain": [
       "manual     218513\n",
       "auto        57954\n",
       "unknown     11491\n",
       "Name: gearbox, dtype: int64"
      ]
     },
     "execution_count": 82,
     "metadata": {},
     "output_type": "execute_result"
    }
   ],
   "source": [
    "df.gearbox.value_counts()"
   ]
  },
  {
   "cell_type": "code",
   "execution_count": 83,
   "id": "2fcfda8a",
   "metadata": {},
   "outputs": [
    {
     "data": {
      "text/plain": [
       "Text(0.5, 1.0, 'Count of Each Gearbox Type')"
      ]
     },
     "execution_count": 83,
     "metadata": {},
     "output_type": "execute_result"
    },
    {
     "data": {
      "image/png": "[encoded data removed]",
      "text/plain": [
       "<Figure size 640x480 with 1 Axes>"
      ]
     },
     "metadata": {},
     "output_type": "display_data"
    }
   ],
   "source": [
    "sns.countplot(x='gearbox', data=df)\n",
    "plt.xlabel('Gearbox')\n",
    "plt.ylabel('Count')\n",
    "plt.title('Count of Each Gearbox Type')"
   ]
  },
  {
   "cell_type": "markdown",
   "id": "3f6ada83",
   "metadata": {},
   "source": [
    "As shown above, vehicles with manual transmissions are much more prevalent in the dataset than those with automatic transmissions. \n",
    "\n",
    "---"
   ]
  },
  {
   "cell_type": "markdown",
   "id": "9f21c3bb",
   "metadata": {},
   "source": [
    "### 3.5 Power"
   ]
  },
  {
   "cell_type": "code",
   "execution_count": 84,
   "id": "239073cf",
   "metadata": {},
   "outputs": [
    {
     "data": {
      "text/plain": [
       "count    287958.000000\n",
       "mean        115.752658\n",
       "std         194.969074\n",
       "min           0.000000\n",
       "25%          75.000000\n",
       "50%         109.000000\n",
       "75%         146.000000\n",
       "max       20000.000000\n",
       "Name: power, dtype: float64"
      ]
     },
     "execution_count": 84,
     "metadata": {},
     "output_type": "execute_result"
    }
   ],
   "source": [
    "df.power.describe() "
   ]
  },
  {
   "cell_type": "markdown",
   "id": "0bb29b7b",
   "metadata": {},
   "source": [
    "Cars with 20,000 horsepower don't exist. The vehicle with the highest horsepower is the [2024 Koenigsegg Gemera](https://www.caranddriver.com/news/a44506609/koenigsegg-gemera-production-v8-details/) at 2,300hp and most cars fall into the 100hp to 300hp [range](https://www.jdpower.com/cars/shopping-guides/what-is-the-average-horsepower-of-a-car). Because of this, I'll constrict the values to be between 40hp and 400hp (inclusive)."
   ]
  },
  {
   "cell_type": "code",
   "execution_count": 85,
   "id": "f7faa996",
   "metadata": {},
   "outputs": [
    {
     "data": {
      "text/plain": [
       "(260697, 11)"
      ]
     },
     "execution_count": 85,
     "metadata": {},
     "output_type": "execute_result"
    }
   ],
   "source": [
    "df = df[(df.power >= 40) & (df.power <= 400)] \n",
    "df.shape"
   ]
  },
  {
   "cell_type": "code",
   "execution_count": 86,
   "id": "91c5cccc",
   "metadata": {},
   "outputs": [
    {
     "data": {
      "text/plain": [
       "Text(0.5, 1.0, 'Horsepower Distribution')"
      ]
     },
     "execution_count": 86,
     "metadata": {},
     "output_type": "execute_result"
    },
    {
     "data": {
      "image/png": "[encoded data removed]",
      "text/plain": [
       "<Figure size 640x480 with 1 Axes>"
      ]
     },
     "metadata": {},
     "output_type": "display_data"
    }
   ],
   "source": [
    "sns.histplot(df.power, \n",
    "             bins=50, \n",
    "             kde=True, \n",
    "             color='blue', \n",
    "             edgecolor='black') \n",
    "\n",
    "plt.xlabel('Horsepower')\n",
    "plt.ylabel('Frequency')\n",
    "plt.title('Horsepower Distribution')"
   ]
  },
  {
   "cell_type": "markdown",
   "id": "97cfc4b4",
   "metadata": {},
   "source": [
    "The data is right-skewed, showing a concentration of values at the lower end with a gradual decline toward higher values. No clear pattern is evident in the distribution."
   ]
  },
  {
   "cell_type": "markdown",
   "id": "24f781ff",
   "metadata": {},
   "source": [
    "### 3.6 Model"
   ]
  },
  {
   "cell_type": "code",
   "execution_count": 87,
   "id": "a327df39",
   "metadata": {},
   "outputs": [
    {
     "data": {
      "text/plain": [
       "golf                  21735\n",
       "other                 17904\n",
       "3er                   15558\n",
       "unknown               10000\n",
       "polo                   8469\n",
       "                      ...  \n",
       "rangerover                3\n",
       "serie_3                   3\n",
       "601                       3\n",
       "samara                    3\n",
       "range_rover_evoque        1\n",
       "Name: model, Length: 250, dtype: int64"
      ]
     },
     "execution_count": 87,
     "metadata": {},
     "output_type": "execute_result"
    }
   ],
   "source": [
    "df.model.value_counts()"
   ]
  },
  {
   "cell_type": "markdown",
   "id": "3ac3a539",
   "metadata": {},
   "source": [
    "The Volkswagen Golf is the most common vehicle in the dataset, appearing far more frequently than any other model. Due to the large number of unique vehicle models present, a visualization (such as a bar plot) has been excluded here, as it would be difficult to interpret and visually cluttered. Instead, summary statistics and value counts are used to highlight the dominance of the Golf and to provide insight into the distribution of vehicle models within the data.\n",
    "\n",
    "---"
   ]
  },
  {
   "cell_type": "markdown",
   "id": "9c85f0c5",
   "metadata": {},
   "source": [
    "### 3.7 Kilometers"
   ]
  },
  {
   "cell_type": "code",
   "execution_count": 88,
   "id": "25cfcde2",
   "metadata": {},
   "outputs": [
    {
     "data": {
      "text/plain": [
       "count    260697.000000\n",
       "mean     127823.277598\n",
       "std       36834.254785\n",
       "min        5000.000000\n",
       "25%      125000.000000\n",
       "50%      150000.000000\n",
       "75%      150000.000000\n",
       "max      150000.000000\n",
       "Name: kilometers, dtype: float64"
      ]
     },
     "execution_count": 88,
     "metadata": {},
     "output_type": "execute_result"
    }
   ],
   "source": [
    "df.kilometers.describe()"
   ]
  },
  {
   "cell_type": "code",
   "execution_count": 89,
   "id": "b060667b",
   "metadata": {},
   "outputs": [
    {
     "data": {
      "text/plain": [
       "Text(0.5, 1.0, 'Kilometer Distribution')"
      ]
     },
     "execution_count": 89,
     "metadata": {},
     "output_type": "execute_result"
    },
    {
     "data": {
      "image/png": "[encoded data removed]",
      "text/plain": [
       "<Figure size 640x480 with 1 Axes>"
      ]
     },
     "metadata": {},
     "output_type": "display_data"
    }
   ],
   "source": [
    "sns.histplot(df.kilometers, \n",
    "             bins=50, \n",
    "             kde=True, \n",
    "             color='blue', \n",
    "             edgecolor='black') \n",
    "\n",
    "plt.xlabel('Kilometers')\n",
    "plt.ylabel('Frequency')\n",
    "plt.title('Kilometer Distribution')"
   ]
  },
  {
   "cell_type": "markdown",
   "id": "5d40a96a",
   "metadata": {},
   "source": [
    "The distribution of the `kilometers` feature appears unusual. Could the mileage data be synthetic or artificially generated? \n",
    "\n",
    "---"
   ]
  },
  {
   "cell_type": "markdown",
   "id": "6a651ad1",
   "metadata": {},
   "source": [
    "### 3.8 Registration Month"
   ]
  },
  {
   "cell_type": "code",
   "execution_count": 90,
   "id": "f5703f0b",
   "metadata": {},
   "outputs": [
    {
     "data": {
      "text/plain": [
       "count    260697.000000\n",
       "mean          6.032889\n",
       "std           3.567404\n",
       "min           0.000000\n",
       "25%           3.000000\n",
       "50%           6.000000\n",
       "75%           9.000000\n",
       "max          12.000000\n",
       "Name: registration_month, dtype: float64"
      ]
     },
     "execution_count": 90,
     "metadata": {},
     "output_type": "execute_result"
    }
   ],
   "source": [
    "df.registration_month.describe()"
   ]
  },
  {
   "cell_type": "code",
   "execution_count": 91,
   "id": "22807050",
   "metadata": {},
   "outputs": [
    {
     "data": {
      "image/png": "[encoded data removed]",
      "text/plain": [
       "<Figure size 640x480 with 1 Axes>"
      ]
     },
     "metadata": {},
     "output_type": "display_data"
    }
   ],
   "source": [
    "month_counts = df['registration_month'].value_counts().sort_index()\n",
    "sns.barplot(x=month_counts.index, \n",
    "            y=month_counts.values)\n",
    "plt.xlabel('Registration Month')\n",
    "plt.ylabel('Count')\n",
    "plt.title('Count of Each Registration Month')\n",
    "plt.show()"
   ]
  },
  {
   "cell_type": "markdown",
   "id": "a34e030e",
   "metadata": {},
   "source": [
    "The distribution of vehicle registrations is fairly uniform throughout the year, with a slight increase in registrations from March to July.\n",
    "\n",
    "---"
   ]
  },
  {
   "cell_type": "markdown",
   "id": "74c0c853",
   "metadata": {},
   "source": [
    "### 3.9 Fuel Type"
   ]
  },
  {
   "cell_type": "code",
   "execution_count": 92,
   "id": "944c99e9",
   "metadata": {},
   "outputs": [
    {
     "data": {
      "text/plain": [
       "petrol      159606\n",
       "gasoline     80466\n",
       "unknown      15613\n",
       "lpg           4287\n",
       "cng            446\n",
       "hybrid         197\n",
       "other           47\n",
       "electric        35\n",
       "Name: fuel_type, dtype: int64"
      ]
     },
     "execution_count": 92,
     "metadata": {},
     "output_type": "execute_result"
    }
   ],
   "source": [
    "df.fuel_type.value_counts() "
   ]
  },
  {
   "cell_type": "code",
   "execution_count": 93,
   "id": "b799f2bc",
   "metadata": {},
   "outputs": [
    {
     "data": {
      "text/plain": [
       "petrol      0.612228\n",
       "gasoline    0.308657\n",
       "unknown     0.059889\n",
       "lpg         0.016444\n",
       "cng         0.001711\n",
       "hybrid      0.000756\n",
       "other       0.000180\n",
       "electric    0.000134\n",
       "Name: fuel_type, dtype: float64"
      ]
     },
     "execution_count": 93,
     "metadata": {},
     "output_type": "execute_result"
    }
   ],
   "source": [
    "df.fuel_type.value_counts()/df.shape[0]"
   ]
  },
  {
   "cell_type": "code",
   "execution_count": 94,
   "id": "1add7756",
   "metadata": {},
   "outputs": [
    {
     "data": {
      "image/png": "[encoded data removed]",
      "text/plain": [
       "<Figure size 640x480 with 1 Axes>"
      ]
     },
     "metadata": {},
     "output_type": "display_data"
    }
   ],
   "source": [
    "fuel_type_counts = df['fuel_type'].value_counts().sort_index()\n",
    "sns.barplot(x=fuel_type_counts.index, \n",
    "            y=fuel_type_counts.values)\n",
    "plt.xlabel('Fuel Type')\n",
    "plt.ylabel('Count')\n",
    "plt.title('Number of Vehicles by Fuel Type')\n",
    "plt.show() "
   ]
  },
  {
   "cell_type": "markdown",
   "id": "5052f293",
   "metadata": {},
   "source": [
    "Petrol and gasoline dominate vehicle fuel type, at 69% and 29% respectively. \n",
    "\n",
    "---"
   ]
  },
  {
   "cell_type": "markdown",
   "id": "ac3a16e0",
   "metadata": {},
   "source": [
    "### 3.10 Brand"
   ]
  },
  {
   "cell_type": "code",
   "execution_count": 95,
   "id": "e22a61e3",
   "metadata": {},
   "outputs": [
    {
     "data": {
      "text/plain": [
       "volkswagen        56229\n",
       "bmw               29284\n",
       "opel              26967\n",
       "mercedes_benz     25547\n",
       "audi              23248\n",
       "ford              17130\n",
       "renault           11626\n",
       "peugeot            8193\n",
       "fiat               6241\n",
       "seat               5194\n",
       "skoda              4575\n",
       "smart              4254\n",
       "mazda              4151\n",
       "toyota             3824\n",
       "citroen            3772\n",
       "nissan             3498\n",
       "hyundai            2862\n",
       "mini               2790\n",
       "volvo              2436\n",
       "honda              2179\n",
       "mitsubishi         2115\n",
       "kia                1922\n",
       "alfa_romeo         1763\n",
       "suzuki             1733\n",
       "sonstige_autos     1502\n",
       "chevrolet          1388\n",
       "chrysler           1049\n",
       "dacia               762\n",
       "jeep                561\n",
       "porsche             543\n",
       "subaru              539\n",
       "daihatsu            473\n",
       "land_rover          438\n",
       "saab                415\n",
       "jaguar              412\n",
       "daewoo              315\n",
       "lancia              313\n",
       "rover               287\n",
       "lada                148\n",
       "trabant              19\n",
       "Name: brand, dtype: int64"
      ]
     },
     "execution_count": 95,
     "metadata": {},
     "output_type": "execute_result"
    }
   ],
   "source": [
    "df.brand.value_counts()"
   ]
  },
  {
   "cell_type": "code",
   "execution_count": 96,
   "id": "eab25dfe",
   "metadata": {},
   "outputs": [
    {
     "data": {
      "text/plain": [
       "volkswagen        0.215687\n",
       "bmw               0.112330\n",
       "opel              0.103442\n",
       "mercedes_benz     0.097995\n",
       "audi              0.089176\n",
       "ford              0.065708\n",
       "renault           0.044596\n",
       "peugeot           0.031427\n",
       "fiat              0.023940\n",
       "seat              0.019924\n",
       "skoda             0.017549\n",
       "smart             0.016318\n",
       "mazda             0.015923\n",
       "toyota            0.014668\n",
       "citroen           0.014469\n",
       "nissan            0.013418\n",
       "hyundai           0.010978\n",
       "mini              0.010702\n",
       "volvo             0.009344\n",
       "honda             0.008358\n",
       "mitsubishi        0.008113\n",
       "kia               0.007373\n",
       "alfa_romeo        0.006763\n",
       "suzuki            0.006648\n",
       "sonstige_autos    0.005761\n",
       "chevrolet         0.005324\n",
       "chrysler          0.004024\n",
       "dacia             0.002923\n",
       "jeep              0.002152\n",
       "porsche           0.002083\n",
       "subaru            0.002068\n",
       "daihatsu          0.001814\n",
       "land_rover        0.001680\n",
       "saab              0.001592\n",
       "jaguar            0.001580\n",
       "daewoo            0.001208\n",
       "lancia            0.001201\n",
       "rover             0.001101\n",
       "lada              0.000568\n",
       "trabant           0.000073\n",
       "Name: brand, dtype: float64"
      ]
     },
     "execution_count": 96,
     "metadata": {},
     "output_type": "execute_result"
    }
   ],
   "source": [
    "df.brand.value_counts()/df.shape[0]"
   ]
  },
  {
   "cell_type": "code",
   "execution_count": 97,
   "id": "32059867",
   "metadata": {},
   "outputs": [
    {
     "data": {
      "image/png": "[encoded data removed]",
      "text/plain": [
       "<Figure size 640x480 with 1 Axes>"
      ]
     },
     "metadata": {},
     "output_type": "display_data"
    }
   ],
   "source": [
    "brand_counts = df['brand'].value_counts().sort_index()\n",
    "sns.barplot(x=brand_counts.index, \n",
    "            y=brand_counts.values)\n",
    "plt.xlabel('Brand') \n",
    "plt.xticks(rotation=90)\n",
    "plt.ylabel('Count')\n",
    "plt.title('Number of Vehicles by Brand')\n",
    "plt.show()"
   ]
  },
  {
   "cell_type": "markdown",
   "id": "337393d3",
   "metadata": {},
   "source": [
    "The analysis revealed that Volkswagen is the most common brand, followed by Opel, BMW, and Mercedes-Benz. Several other brands, such as Audi, Ford, and Renault, also have a significant presence. Less common brands, including Trabant and Lada, appear much less frequently. This distribution highlights the dominance of a few major brands in the used car market represented by our data. \n",
    "\n",
    "---"
   ]
  },
  {
   "cell_type": "markdown",
   "id": "a18f40ea",
   "metadata": {},
   "source": [
    "### 3.11 Not Repaired"
   ]
  },
  {
   "cell_type": "code",
   "execution_count": 98,
   "id": "cd587fba",
   "metadata": {},
   "outputs": [
    {
     "data": {
      "text/plain": [
       "no         202472\n",
       "unknown     37246\n",
       "yes         20979\n",
       "Name: not_repaired, dtype: int64"
      ]
     },
     "execution_count": 98,
     "metadata": {},
     "output_type": "execute_result"
    }
   ],
   "source": [
    "df.not_repaired.value_counts()"
   ]
  },
  {
   "cell_type": "code",
   "execution_count": 99,
   "id": "790f43cc",
   "metadata": {},
   "outputs": [
    {
     "data": {
      "image/png": "[encoded data removed]",
      "text/plain": [
       "<Figure size 640x480 with 1 Axes>"
      ]
     },
     "metadata": {},
     "output_type": "display_data"
    }
   ],
   "source": [
    "not_repaired_counts = df['not_repaired'].value_counts().sort_index()\n",
    "sns.barplot(x=not_repaired_counts.index, \n",
    "            y=not_repaired_counts.values)\n",
    "plt.xlabel('Not Repaired') \n",
    "plt.ylabel('Count')\n",
    "plt.title('Number of Vehicles by Repair Status')\n",
    "plt.show()"
   ]
  },
  {
   "cell_type": "code",
   "execution_count": 100,
   "id": "f35859b4-b292-48d8-a72b-f403fd3fbc17",
   "metadata": {},
   "outputs": [
    {
     "data": {
      "text/plain": [
       "price                 0\n",
       "vehicle_type          0\n",
       "registration_year     0\n",
       "gearbox               0\n",
       "power                 0\n",
       "model                 0\n",
       "kilometers            0\n",
       "registration_month    0\n",
       "fuel_type             0\n",
       "brand                 0\n",
       "not_repaired          0\n",
       "dtype: int64"
      ]
     },
     "execution_count": 100,
     "metadata": {},
     "output_type": "execute_result"
    }
   ],
   "source": [
    "df.isna().sum()"
   ]
  },
  {
   "cell_type": "markdown",
   "id": "82c2fc6c",
   "metadata": {},
   "source": [
    "Most vehicles in the dataset are listed as 'no'. However, the dataset documentation is ambiguous, so it's unclear whether 'no' means the vehicle has not been repaired or if it refers to something else. This uncertainty should be kept in mind when interpreting this feature."
   ]
  },
  {
   "cell_type": "markdown",
   "id": "f6baae84",
   "metadata": {},
   "source": [
    "### 3.12 Chapter 3 Summary\n",
    "\n",
    "In this chapter, we conducted a comprehensive exploratory data analysis (EDA) of the used car dataset. We examined the distribution and characteristics of each feature, including the target variable (`price`) and all predictors. Key findings include:\n",
    "\n",
    "- The `price` variable is heavily right-skewed, with most cars priced at the lower end and a smooth decline toward higher prices.\n",
    "- `vehicle_type`, `gearbox`, `fuel_type`, and `brand` distributions revealed that sedans, manual transmissions, petrol/gasoline engines, and Volkswagen are the most common categories.\n",
    "- Implausible values in `registration_year` and `power` were identified and filtered out to ensure data quality.\n",
    "- The `kilometers` feature showed an unusual distribution, possibly due to synthetic or rounded data.\n",
    "- Categorical features such as `model` (with many unique values) and `not_repaired` (with some ambiguity in its meaning) were also explored.\n",
    "- No extreme outliers or abrupt gaps were found in the main numerical features after cleaning.\n",
    "\n",
    "Overall, the EDA provided valuable insights into the dataset's structure, highlighted necessary data cleaning steps, and informed the preprocessing and modeling strategies for subsequent chapters. \n",
    "\n",
    "---\n",
    "---"
   ]
  },
  {
   "cell_type": "markdown",
   "id": "f1a0a0db",
   "metadata": {},
   "source": [
    "# 4.0 Modeling \n",
    "\n",
    "In this chapter, we'll develop and evaluate several machine learning models to predict used car prices. We'll begin by (4.1.1) encoding categorical features and (4.1.2) splitting the dataset into training, validation, and test sets to ensure robust model assessment. Next, we'll train a variety of regression models—including (4.2) linear regression, (4.3) decision trees, (4.4) random forests, and gradient boosting methods such as (4.5) LightGBM, (4.6) CatBoost, and (4.7) XGBoost. For each model, we'll explore hyperparameter tuning to optimize performance. Model quality will be assessed using the RMSE metric, and we'll compare results to identify the most effective approach. Additionally, we'll analyze training and prediction speeds to balance accuracy with computational efficiency. This modeling process will guide us toward selecting the best solution for predicting car prices in the Rusty Bargain app. \n",
    "\n",
    "\n",
    "Below are brief definitions of the key machine learning models and concepts used in this chapter:\n",
    "\n",
    "- **Linear Regression:** A simple and interpretable regression algorithm that models the relationship between a dependent variable and one or more independent variables by fitting a linear equation to observed data.\n",
    "\n",
    "- **Decision Tree:** A non-linear model that splits the data into branches based on feature values, creating a tree-like structure for making predictions. It's easy to interpret but can overfit if not properly tuned.\n",
    "\n",
    "- **Random Forest:** An ensemble method that builds multiple decision trees and combines their predictions (usually by averaging) to improve accuracy and reduce overfitting.\n",
    "\n",
    "- **Gradient Boosting:** An ensemble technique that builds models sequentially, where each new model attempts to correct the errors of the previous ones. It's highly effective for structured/tabular data and includes implementations such as CatBoost, LightGBM, and XGBoost.\n",
    "\n",
    "    - **CatBoost:** A gradient boosting library that handles categorical features natively and is robust to overfitting. \n",
    "    - **LightGBM:** A fast, efficient gradient boosting framework that uses tree-based learning algorithms and is optimized for speed and memory usage.\n",
    "    - **XGBoost:** An optimized distributed gradient boosting library designed to be highly efficient, flexible, and portable.\n",
    "\n",
    "- **Root Mean Squared Error (RMSE):** A common metric for regression tasks that measures the square root of the average squared differences between predicted and actual values. Lower RMSE values indicate better model performance.\n",
    "\n",
    "---"
   ]
  },
  {
   "cell_type": "markdown",
   "id": "3baf7053",
   "metadata": {},
   "source": [
    "### 4.1 Ordinal Encoding & Data Splitting \n",
    "\n",
    "In subsection 4.1.1, we'll split the dataset into training, validation, and test sets to ensure robust model evaluation and prevent data leakage. In subsection 4.1.2, we'll encode the categorical features using ordinal encoding so that machine learning models can interpret them as numerical values. This setup will allow us to train our models on one portion of the data, tune hyperparameters on another, and finally assess performance on unseen data."
   ]
  },
  {
   "cell_type": "markdown",
   "id": "3400f36a",
   "metadata": {},
   "source": [
    "#### 4.1.1 Data Splitting "
   ]
  },
  {
   "cell_type": "code",
   "execution_count": 101,
   "id": "1560d7df",
   "metadata": {},
   "outputs": [
    {
     "name": "stdout",
     "output_type": "stream",
     "text": [
      "X index: 1 to 354368\n",
      "y index: 1 to 354368\n"
     ]
    }
   ],
   "source": [
    "X = df.drop(columns=['price'], \n",
    "            axis=1) \n",
    "y = df['price'] \n",
    "\n",
    "print(\"X index:\", X.index.min(), \"to\", X.index.max())\n",
    "print(\"y index:\", y.index.min(), \"to\", y.index.max()) "
   ]
  },
  {
   "cell_type": "code",
   "execution_count": 102,
   "id": "3fc1c1ed",
   "metadata": {},
   "outputs": [
    {
     "data": {
      "text/html": [
       "<div>\n",
       "<style scoped>\n",
       "    .dataframe tbody tr th:only-of-type {\n",
       "        vertical-align: middle;\n",
       "    }\n",
       "\n",
       "    .dataframe tbody tr th {\n",
       "        vertical-align: top;\n",
       "    }\n",
       "\n",
       "    .dataframe thead th {\n",
       "        text-align: right;\n",
       "    }\n",
       "</style>\n",
       "<table border=\"1\" class=\"dataframe\">\n",
       "  <thead>\n",
       "    <tr style=\"text-align: right;\">\n",
       "      <th></th>\n",
       "      <th>vehicle_type</th>\n",
       "      <th>registration_year</th>\n",
       "      <th>gearbox</th>\n",
       "      <th>power</th>\n",
       "      <th>model</th>\n",
       "      <th>kilometers</th>\n",
       "      <th>registration_month</th>\n",
       "      <th>fuel_type</th>\n",
       "      <th>brand</th>\n",
       "      <th>not_repaired</th>\n",
       "    </tr>\n",
       "  </thead>\n",
       "  <tbody>\n",
       "    <tr>\n",
       "      <th>1</th>\n",
       "      <td>coupe</td>\n",
       "      <td>2011</td>\n",
       "      <td>manual</td>\n",
       "      <td>190</td>\n",
       "      <td>unknown</td>\n",
       "      <td>125000</td>\n",
       "      <td>5</td>\n",
       "      <td>gasoline</td>\n",
       "      <td>audi</td>\n",
       "      <td>yes</td>\n",
       "    </tr>\n",
       "    <tr>\n",
       "      <th>2</th>\n",
       "      <td>suv</td>\n",
       "      <td>2004</td>\n",
       "      <td>auto</td>\n",
       "      <td>163</td>\n",
       "      <td>grand</td>\n",
       "      <td>125000</td>\n",
       "      <td>8</td>\n",
       "      <td>gasoline</td>\n",
       "      <td>jeep</td>\n",
       "      <td>unknown</td>\n",
       "    </tr>\n",
       "    <tr>\n",
       "      <th>3</th>\n",
       "      <td>small</td>\n",
       "      <td>2001</td>\n",
       "      <td>manual</td>\n",
       "      <td>75</td>\n",
       "      <td>golf</td>\n",
       "      <td>150000</td>\n",
       "      <td>6</td>\n",
       "      <td>petrol</td>\n",
       "      <td>volkswagen</td>\n",
       "      <td>no</td>\n",
       "    </tr>\n",
       "    <tr>\n",
       "      <th>4</th>\n",
       "      <td>small</td>\n",
       "      <td>2008</td>\n",
       "      <td>manual</td>\n",
       "      <td>69</td>\n",
       "      <td>fabia</td>\n",
       "      <td>90000</td>\n",
       "      <td>7</td>\n",
       "      <td>gasoline</td>\n",
       "      <td>skoda</td>\n",
       "      <td>no</td>\n",
       "    </tr>\n",
       "    <tr>\n",
       "      <th>5</th>\n",
       "      <td>sedan</td>\n",
       "      <td>1995</td>\n",
       "      <td>manual</td>\n",
       "      <td>102</td>\n",
       "      <td>3er</td>\n",
       "      <td>150000</td>\n",
       "      <td>10</td>\n",
       "      <td>petrol</td>\n",
       "      <td>bmw</td>\n",
       "      <td>yes</td>\n",
       "    </tr>\n",
       "  </tbody>\n",
       "</table>\n",
       "</div>"
      ],
      "text/plain": [
       "  vehicle_type  registration_year gearbox  power    model  kilometers  \\\n",
       "1        coupe               2011  manual    190  unknown      125000   \n",
       "2          suv               2004    auto    163    grand      125000   \n",
       "3        small               2001  manual     75     golf      150000   \n",
       "4        small               2008  manual     69    fabia       90000   \n",
       "5        sedan               1995  manual    102      3er      150000   \n",
       "\n",
       "   registration_month fuel_type       brand not_repaired  \n",
       "1                   5  gasoline        audi          yes  \n",
       "2                   8  gasoline        jeep      unknown  \n",
       "3                   6    petrol  volkswagen           no  \n",
       "4                   7  gasoline       skoda           no  \n",
       "5                  10    petrol         bmw          yes  "
      ]
     },
     "metadata": {},
     "output_type": "display_data"
    },
    {
     "name": "stdout",
     "output_type": "stream",
     "text": [
      "Features shape: (260697, 10)\n",
      "\n"
     ]
    },
    {
     "data": {
      "text/plain": [
       "1    18300\n",
       "2     9800\n",
       "3     1500\n",
       "4     3600\n",
       "5      650\n",
       "Name: price, dtype: int64"
      ]
     },
     "metadata": {},
     "output_type": "display_data"
    },
    {
     "name": "stdout",
     "output_type": "stream",
     "text": [
      "Target shape: (260697,)\n"
     ]
    }
   ],
   "source": [
    "\n",
    "display(X.head()) \n",
    "print(f'Features shape: {X.shape}\\n')  \n",
    "display(y.head()) \n",
    "print(f'Target shape: {y.shape}')\n"
   ]
  },
  {
   "cell_type": "code",
   "execution_count": 103,
   "id": "10b0867e",
   "metadata": {},
   "outputs": [],
   "source": [
    "X_train, X_test, y_train, y_test = train_test_split(X, \n",
    "                                                    y, \n",
    "                                                    test_size=0.2) \n",
    "X_train, X_valid, y_train, y_valid = train_test_split(X_train, \n",
    "                                                      y_train, \n",
    "                                                      test_size=0.2) "
   ]
  },
  {
   "cell_type": "code",
   "execution_count": 104,
   "id": "47920626-23e2-44a1-adb2-d3e5300136c3",
   "metadata": {},
   "outputs": [
    {
     "data": {
      "text/plain": [
       "0"
      ]
     },
     "execution_count": 104,
     "metadata": {},
     "output_type": "execute_result"
    }
   ],
   "source": [
    "y.isna().sum()"
   ]
  },
  {
   "cell_type": "code",
   "execution_count": 105,
   "id": "15516322-0aac-43a4-840f-bacfc3b32e59",
   "metadata": {},
   "outputs": [
    {
     "name": "stdout",
     "output_type": "stream",
     "text": [
      "T\n"
     ]
    }
   ],
   "source": [
    "y_train.isna().sum()\n",
    "if len(df.index) == len(y.index): \n",
    "    print('T')\n",
    "else: \n",
    "    print('F')"
   ]
  },
  {
   "cell_type": "code",
   "execution_count": 106,
   "id": "77e910a0",
   "metadata": {},
   "outputs": [
    {
     "data": {
      "text/html": [
       "<div>\n",
       "<style scoped>\n",
       "    .dataframe tbody tr th:only-of-type {\n",
       "        vertical-align: middle;\n",
       "    }\n",
       "\n",
       "    .dataframe tbody tr th {\n",
       "        vertical-align: top;\n",
       "    }\n",
       "\n",
       "    .dataframe thead th {\n",
       "        text-align: right;\n",
       "    }\n",
       "</style>\n",
       "<table border=\"1\" class=\"dataframe\">\n",
       "  <thead>\n",
       "    <tr style=\"text-align: right;\">\n",
       "      <th></th>\n",
       "      <th>vehicle_type</th>\n",
       "      <th>registration_year</th>\n",
       "      <th>gearbox</th>\n",
       "      <th>power</th>\n",
       "      <th>model</th>\n",
       "      <th>kilometers</th>\n",
       "      <th>registration_month</th>\n",
       "      <th>fuel_type</th>\n",
       "      <th>brand</th>\n",
       "      <th>not_repaired</th>\n",
       "    </tr>\n",
       "  </thead>\n",
       "  <tbody>\n",
       "    <tr>\n",
       "      <th>63116</th>\n",
       "      <td>sedan</td>\n",
       "      <td>1997</td>\n",
       "      <td>manual</td>\n",
       "      <td>60</td>\n",
       "      <td>golf</td>\n",
       "      <td>150000</td>\n",
       "      <td>7</td>\n",
       "      <td>petrol</td>\n",
       "      <td>volkswagen</td>\n",
       "      <td>no</td>\n",
       "    </tr>\n",
       "    <tr>\n",
       "      <th>4401</th>\n",
       "      <td>sedan</td>\n",
       "      <td>2006</td>\n",
       "      <td>auto</td>\n",
       "      <td>224</td>\n",
       "      <td>e_klasse</td>\n",
       "      <td>150000</td>\n",
       "      <td>11</td>\n",
       "      <td>gasoline</td>\n",
       "      <td>mercedes_benz</td>\n",
       "      <td>no</td>\n",
       "    </tr>\n",
       "    <tr>\n",
       "      <th>267007</th>\n",
       "      <td>sedan</td>\n",
       "      <td>2006</td>\n",
       "      <td>auto</td>\n",
       "      <td>224</td>\n",
       "      <td>phaeton</td>\n",
       "      <td>150000</td>\n",
       "      <td>12</td>\n",
       "      <td>gasoline</td>\n",
       "      <td>volkswagen</td>\n",
       "      <td>no</td>\n",
       "    </tr>\n",
       "    <tr>\n",
       "      <th>25289</th>\n",
       "      <td>small</td>\n",
       "      <td>2003</td>\n",
       "      <td>manual</td>\n",
       "      <td>50</td>\n",
       "      <td>lupo</td>\n",
       "      <td>150000</td>\n",
       "      <td>12</td>\n",
       "      <td>petrol</td>\n",
       "      <td>volkswagen</td>\n",
       "      <td>no</td>\n",
       "    </tr>\n",
       "    <tr>\n",
       "      <th>100637</th>\n",
       "      <td>sedan</td>\n",
       "      <td>1997</td>\n",
       "      <td>manual</td>\n",
       "      <td>101</td>\n",
       "      <td>toledo</td>\n",
       "      <td>150000</td>\n",
       "      <td>4</td>\n",
       "      <td>petrol</td>\n",
       "      <td>seat</td>\n",
       "      <td>no</td>\n",
       "    </tr>\n",
       "  </tbody>\n",
       "</table>\n",
       "</div>"
      ],
      "text/plain": [
       "       vehicle_type  registration_year gearbox  power     model  kilometers  \\\n",
       "63116         sedan               1997  manual     60      golf      150000   \n",
       "4401          sedan               2006    auto    224  e_klasse      150000   \n",
       "267007        sedan               2006    auto    224   phaeton      150000   \n",
       "25289         small               2003  manual     50      lupo      150000   \n",
       "100637        sedan               1997  manual    101    toledo      150000   \n",
       "\n",
       "        registration_month fuel_type          brand not_repaired  \n",
       "63116                    7    petrol     volkswagen           no  \n",
       "4401                    11  gasoline  mercedes_benz           no  \n",
       "267007                  12  gasoline     volkswagen           no  \n",
       "25289                   12    petrol     volkswagen           no  \n",
       "100637                   4    petrol           seat           no  "
      ]
     },
     "metadata": {},
     "output_type": "display_data"
    },
    {
     "name": "stdout",
     "output_type": "stream",
     "text": [
      "Features train shape: (166845, 10)\n",
      "\n"
     ]
    },
    {
     "data": {
      "text/plain": [
       "63116      1690\n",
       "4401      11850\n",
       "267007     9000\n",
       "25289      1600\n",
       "100637      899\n",
       "Name: price, dtype: int64"
      ]
     },
     "metadata": {},
     "output_type": "display_data"
    },
    {
     "name": "stdout",
     "output_type": "stream",
     "text": [
      "Target train shape: (166845,)\n",
      "\n",
      "\n"
     ]
    },
    {
     "data": {
      "text/html": [
       "<div>\n",
       "<style scoped>\n",
       "    .dataframe tbody tr th:only-of-type {\n",
       "        vertical-align: middle;\n",
       "    }\n",
       "\n",
       "    .dataframe tbody tr th {\n",
       "        vertical-align: top;\n",
       "    }\n",
       "\n",
       "    .dataframe thead th {\n",
       "        text-align: right;\n",
       "    }\n",
       "</style>\n",
       "<table border=\"1\" class=\"dataframe\">\n",
       "  <thead>\n",
       "    <tr style=\"text-align: right;\">\n",
       "      <th></th>\n",
       "      <th>vehicle_type</th>\n",
       "      <th>registration_year</th>\n",
       "      <th>gearbox</th>\n",
       "      <th>power</th>\n",
       "      <th>model</th>\n",
       "      <th>kilometers</th>\n",
       "      <th>registration_month</th>\n",
       "      <th>fuel_type</th>\n",
       "      <th>brand</th>\n",
       "      <th>not_repaired</th>\n",
       "    </tr>\n",
       "  </thead>\n",
       "  <tbody>\n",
       "    <tr>\n",
       "      <th>230434</th>\n",
       "      <td>convertible</td>\n",
       "      <td>2008</td>\n",
       "      <td>manual</td>\n",
       "      <td>170</td>\n",
       "      <td>1er</td>\n",
       "      <td>100000</td>\n",
       "      <td>10</td>\n",
       "      <td>petrol</td>\n",
       "      <td>bmw</td>\n",
       "      <td>no</td>\n",
       "    </tr>\n",
       "    <tr>\n",
       "      <th>110052</th>\n",
       "      <td>sedan</td>\n",
       "      <td>2007</td>\n",
       "      <td>manual</td>\n",
       "      <td>105</td>\n",
       "      <td>golf</td>\n",
       "      <td>150000</td>\n",
       "      <td>6</td>\n",
       "      <td>gasoline</td>\n",
       "      <td>volkswagen</td>\n",
       "      <td>no</td>\n",
       "    </tr>\n",
       "    <tr>\n",
       "      <th>70434</th>\n",
       "      <td>small</td>\n",
       "      <td>2000</td>\n",
       "      <td>manual</td>\n",
       "      <td>75</td>\n",
       "      <td>polo</td>\n",
       "      <td>150000</td>\n",
       "      <td>3</td>\n",
       "      <td>petrol</td>\n",
       "      <td>volkswagen</td>\n",
       "      <td>no</td>\n",
       "    </tr>\n",
       "    <tr>\n",
       "      <th>349093</th>\n",
       "      <td>convertible</td>\n",
       "      <td>2012</td>\n",
       "      <td>manual</td>\n",
       "      <td>126</td>\n",
       "      <td>mx_reihe</td>\n",
       "      <td>40000</td>\n",
       "      <td>3</td>\n",
       "      <td>petrol</td>\n",
       "      <td>mazda</td>\n",
       "      <td>no</td>\n",
       "    </tr>\n",
       "    <tr>\n",
       "      <th>52606</th>\n",
       "      <td>sedan</td>\n",
       "      <td>1998</td>\n",
       "      <td>auto</td>\n",
       "      <td>136</td>\n",
       "      <td>c_klasse</td>\n",
       "      <td>150000</td>\n",
       "      <td>9</td>\n",
       "      <td>petrol</td>\n",
       "      <td>mercedes_benz</td>\n",
       "      <td>no</td>\n",
       "    </tr>\n",
       "  </tbody>\n",
       "</table>\n",
       "</div>"
      ],
      "text/plain": [
       "       vehicle_type  registration_year gearbox  power     model  kilometers  \\\n",
       "230434  convertible               2008  manual    170       1er      100000   \n",
       "110052        sedan               2007  manual    105      golf      150000   \n",
       "70434         small               2000  manual     75      polo      150000   \n",
       "349093  convertible               2012  manual    126  mx_reihe       40000   \n",
       "52606         sedan               1998    auto    136  c_klasse      150000   \n",
       "\n",
       "        registration_month fuel_type          brand not_repaired  \n",
       "230434                  10    petrol            bmw           no  \n",
       "110052                   6  gasoline     volkswagen           no  \n",
       "70434                    3    petrol     volkswagen           no  \n",
       "349093                   3    petrol          mazda           no  \n",
       "52606                    9    petrol  mercedes_benz           no  "
      ]
     },
     "metadata": {},
     "output_type": "display_data"
    },
    {
     "name": "stdout",
     "output_type": "stream",
     "text": [
      "Features valid shape: (41712, 10)\n",
      "\n"
     ]
    },
    {
     "data": {
      "text/plain": [
       "230434    12500\n",
       "110052     2900\n",
       "70434      1200\n",
       "349093    13980\n",
       "52606       750\n",
       "Name: price, dtype: int64"
      ]
     },
     "metadata": {},
     "output_type": "display_data"
    },
    {
     "name": "stdout",
     "output_type": "stream",
     "text": [
      "Target valid shape: (41712,)\n",
      "\n",
      "\n"
     ]
    },
    {
     "data": {
      "text/html": [
       "<div>\n",
       "<style scoped>\n",
       "    .dataframe tbody tr th:only-of-type {\n",
       "        vertical-align: middle;\n",
       "    }\n",
       "\n",
       "    .dataframe tbody tr th {\n",
       "        vertical-align: top;\n",
       "    }\n",
       "\n",
       "    .dataframe thead th {\n",
       "        text-align: right;\n",
       "    }\n",
       "</style>\n",
       "<table border=\"1\" class=\"dataframe\">\n",
       "  <thead>\n",
       "    <tr style=\"text-align: right;\">\n",
       "      <th></th>\n",
       "      <th>vehicle_type</th>\n",
       "      <th>registration_year</th>\n",
       "      <th>gearbox</th>\n",
       "      <th>power</th>\n",
       "      <th>model</th>\n",
       "      <th>kilometers</th>\n",
       "      <th>registration_month</th>\n",
       "      <th>fuel_type</th>\n",
       "      <th>brand</th>\n",
       "      <th>not_repaired</th>\n",
       "    </tr>\n",
       "  </thead>\n",
       "  <tbody>\n",
       "    <tr>\n",
       "      <th>143704</th>\n",
       "      <td>small</td>\n",
       "      <td>1995</td>\n",
       "      <td>manual</td>\n",
       "      <td>50</td>\n",
       "      <td>twingo</td>\n",
       "      <td>150000</td>\n",
       "      <td>9</td>\n",
       "      <td>petrol</td>\n",
       "      <td>renault</td>\n",
       "      <td>no</td>\n",
       "    </tr>\n",
       "    <tr>\n",
       "      <th>274463</th>\n",
       "      <td>sedan</td>\n",
       "      <td>2002</td>\n",
       "      <td>auto</td>\n",
       "      <td>163</td>\n",
       "      <td>c_klasse</td>\n",
       "      <td>150000</td>\n",
       "      <td>8</td>\n",
       "      <td>petrol</td>\n",
       "      <td>mercedes_benz</td>\n",
       "      <td>no</td>\n",
       "    </tr>\n",
       "    <tr>\n",
       "      <th>162455</th>\n",
       "      <td>wagon</td>\n",
       "      <td>2010</td>\n",
       "      <td>auto</td>\n",
       "      <td>231</td>\n",
       "      <td>e_klasse</td>\n",
       "      <td>150000</td>\n",
       "      <td>6</td>\n",
       "      <td>gasoline</td>\n",
       "      <td>mercedes_benz</td>\n",
       "      <td>no</td>\n",
       "    </tr>\n",
       "    <tr>\n",
       "      <th>195189</th>\n",
       "      <td>coupe</td>\n",
       "      <td>1984</td>\n",
       "      <td>unknown</td>\n",
       "      <td>160</td>\n",
       "      <td>other</td>\n",
       "      <td>125000</td>\n",
       "      <td>3</td>\n",
       "      <td>unknown</td>\n",
       "      <td>porsche</td>\n",
       "      <td>yes</td>\n",
       "    </tr>\n",
       "    <tr>\n",
       "      <th>226123</th>\n",
       "      <td>small</td>\n",
       "      <td>2005</td>\n",
       "      <td>manual</td>\n",
       "      <td>54</td>\n",
       "      <td>unknown</td>\n",
       "      <td>5000</td>\n",
       "      <td>0</td>\n",
       "      <td>petrol</td>\n",
       "      <td>volkswagen</td>\n",
       "      <td>no</td>\n",
       "    </tr>\n",
       "  </tbody>\n",
       "</table>\n",
       "</div>"
      ],
      "text/plain": [
       "       vehicle_type  registration_year  gearbox  power     model  kilometers  \\\n",
       "143704        small               1995   manual     50    twingo      150000   \n",
       "274463        sedan               2002     auto    163  c_klasse      150000   \n",
       "162455        wagon               2010     auto    231  e_klasse      150000   \n",
       "195189        coupe               1984  unknown    160     other      125000   \n",
       "226123        small               2005   manual     54   unknown        5000   \n",
       "\n",
       "        registration_month fuel_type          brand not_repaired  \n",
       "143704                   9    petrol        renault           no  \n",
       "274463                   8    petrol  mercedes_benz           no  \n",
       "162455                   6  gasoline  mercedes_benz           no  \n",
       "195189                   3   unknown        porsche          yes  \n",
       "226123                   0    petrol     volkswagen           no  "
      ]
     },
     "metadata": {},
     "output_type": "display_data"
    },
    {
     "name": "stdout",
     "output_type": "stream",
     "text": [
      "Features test shape: (52140, 10)\n",
      "\n"
     ]
    },
    {
     "data": {
      "text/plain": [
       "143704      700\n",
       "274463     3300\n",
       "162455    14980\n",
       "195189      722\n",
       "226123     3000\n",
       "Name: price, dtype: int64"
      ]
     },
     "metadata": {},
     "output_type": "display_data"
    },
    {
     "name": "stdout",
     "output_type": "stream",
     "text": [
      "Target test shape: (260697,)\n",
      "\n",
      "\n"
     ]
    }
   ],
   "source": [
    "display(X_train.head()) \n",
    "print(f'Features train shape: {X_train.shape}\\n')\n",
    "\n",
    "display(y_train.head())\n",
    "print(f'Target train shape: {y_train.shape}\\n\\n') \n",
    "\n",
    "display(X_valid.head()) \n",
    "print(f'Features valid shape: {X_valid.shape}\\n')\n",
    "\n",
    "display(y_valid.head())\n",
    "print(f'Target valid shape: {y_valid.shape}\\n\\n') \n",
    "\n",
    "display(X_test.head()) \n",
    "print(f'Features test shape: {X_test.shape}\\n')\n",
    "\n",
    "display(y_test.head())\n",
    "print(f'Target test shape: {y.shape}\\n\\n') "
   ]
  },
  {
   "cell_type": "code",
   "execution_count": 107,
   "id": "5254a5c9-80db-4e33-9747-6a6f137bdfda",
   "metadata": {},
   "outputs": [],
   "source": [
    "X_train = X_train.reset_index(drop=True)\n",
    "X_test = X_test.reset_index(drop=True)\n",
    "X_valid = X_valid.reset_index(drop=True)"
   ]
  },
  {
   "cell_type": "markdown",
   "id": "edaf24ca",
   "metadata": {},
   "source": [
    "#### 4.1.2 Ordinal Encoder"
   ]
  },
  {
   "cell_type": "code",
   "execution_count": 108,
   "id": "2627324c-7492-49cb-8d7c-476b63d69ff6",
   "metadata": {},
   "outputs": [],
   "source": [
    "\n",
    "oe = OrdinalEncoder()\n",
    "\n",
    "oe_columns = ['vehicle_type', \n",
    "              'gearbox', \n",
    "              'model', \n",
    "              'fuel_type', \n",
    "              'brand', \n",
    "              'not_repaired']\n",
    "\n",
    "encoded_train = oe.fit_transform(X_train[oe_columns]) \n",
    "\n",
    "encoded_valid = oe.transform(X_valid[oe_columns])\n",
    "encoded_test = oe.transform(X_test[oe_columns])\n",
    "\n",
    "\n",
    "\n",
    "df_train_encoded = pd.DataFrame(encoded_train,columns = oe_columns)\n",
    "df_valid_encoded = pd.DataFrame(encoded_valid,columns = oe_columns)\n",
    "df_test_encoded = pd.DataFrame(encoded_test,columns = oe_columns) \n"
   ]
  },
  {
   "cell_type": "code",
   "execution_count": 109,
   "id": "8a78e6f1-7442-47a9-8099-db996a222d6a",
   "metadata": {},
   "outputs": [
    {
     "name": "stdout",
     "output_type": "stream",
     "text": [
      "vehicle_type    float64\n",
      "gearbox         float64\n",
      "model           float64\n",
      "fuel_type       float64\n",
      "brand           float64\n",
      "not_repaired    float64\n",
      "dtype: object\n",
      "   vehicle_type  gearbox  model  fuel_type  brand  not_repaired\n",
      "0           4.0      1.0  116.0        6.0   38.0           0.0\n",
      "1           4.0      0.0   95.0        2.0   20.0           0.0\n",
      "2           4.0      0.0  171.0        2.0   38.0           0.0\n",
      "3           5.0      1.0  143.0        6.0   38.0           0.0\n",
      "4           4.0      1.0  219.0        6.0   30.0           0.0\n",
      "vehicle_type    float64\n",
      "gearbox         float64\n",
      "model           float64\n",
      "fuel_type       float64\n",
      "brand           float64\n",
      "not_repaired    float64\n",
      "dtype: object\n",
      "   vehicle_type  gearbox  model  fuel_type  brand  not_repaired\n",
      "0           1.0      1.0    6.0        6.0    2.0           0.0\n",
      "1           4.0      1.0  116.0        2.0   38.0           0.0\n",
      "2           5.0      1.0  173.0        6.0   38.0           0.0\n",
      "3           1.0      1.0  158.0        6.0   19.0           0.0\n",
      "4           4.0      0.0   59.0        6.0   20.0           0.0\n",
      "vehicle_type    float64\n",
      "gearbox         float64\n",
      "model           float64\n",
      "fuel_type       float64\n",
      "brand           float64\n",
      "not_repaired    float64\n",
      "dtype: object\n",
      "   vehicle_type  gearbox  model  fuel_type  brand  not_repaired\n",
      "0           5.0      1.0  226.0        6.0   27.0           0.0\n",
      "1           4.0      0.0   59.0        6.0   20.0           0.0\n",
      "2           8.0      0.0   95.0        2.0   20.0           0.0\n",
      "3           2.0      2.0  166.0        7.0   26.0           2.0\n",
      "4           5.0      1.0  227.0        6.0   38.0           0.0\n"
     ]
    }
   ],
   "source": [
    "print(df_train_encoded.dtypes)\n",
    "print(df_train_encoded.head()) \n",
    "\n",
    "print(df_valid_encoded.dtypes)\n",
    "print(df_valid_encoded.head()) \n",
    "\n",
    "print(df_test_encoded.dtypes)\n",
    "print(df_test_encoded.head())"
   ]
  },
  {
   "cell_type": "code",
   "execution_count": 110,
   "id": "7b7a79b5-9e21-420e-8bb2-e32d5224f31a",
   "metadata": {},
   "outputs": [],
   "source": [
    "\n",
    "X_train_clean = X_train.drop(oe_columns, axis=1)\n",
    "X_train_clean = X_train_clean.merge(df_train_encoded, left_index=True,right_index=True)\n",
    "\n",
    "\n",
    "X_valid_clean = X_valid.drop(oe_columns, axis=1)\n",
    "X_valid_clean = X_valid_clean.merge(df_valid_encoded, left_index=True,right_index=True) \n",
    "\n",
    "X_test_clean = X_test.drop(oe_columns, axis=1)\n",
    "X_test_clean = X_test_clean.merge(df_test_encoded, left_index=True,right_index=True)\n"
   ]
  },
  {
   "cell_type": "code",
   "execution_count": 111,
   "id": "e6b510f3-c508-41da-870f-e21ed7e213a6",
   "metadata": {},
   "outputs": [
    {
     "data": {
      "text/plain": [
       "((166845, 10), (166845,))"
      ]
     },
     "execution_count": 111,
     "metadata": {},
     "output_type": "execute_result"
    }
   ],
   "source": [
    "X_train_clean.shape, y_train.shape"
   ]
  },
  {
   "cell_type": "markdown",
   "id": "ff123f54",
   "metadata": {},
   "source": [
    "In this section, we prepared the dataset for machine learning by encoding categorical features using ordinal encoding and splitting the data into training, validation, and test sets. This preprocessing ensures that all features are in a numerical format suitable for modeling and that model evaluation is robust and unbiased. These steps lay the groundwork for training and comparing various regression models in the following sections.\n",
    "\n",
    "---"
   ]
  },
  {
   "cell_type": "markdown",
   "id": "796b03a8",
   "metadata": {},
   "source": [
    "### 4.2 Linear Regression"
   ]
  },
  {
   "cell_type": "code",
   "execution_count": 112,
   "id": "844e1c27-6928-4d56-8b30-4b3c656ecae2",
   "metadata": {},
   "outputs": [
    {
     "data": {
      "text/plain": [
       "0"
      ]
     },
     "execution_count": 112,
     "metadata": {},
     "output_type": "execute_result"
    }
   ],
   "source": [
    "y_train.isna().sum()"
   ]
  },
  {
   "cell_type": "code",
   "execution_count": 113,
   "id": "835a1bcc-b130-48ef-a2e0-f3f4b93a6363",
   "metadata": {},
   "outputs": [
    {
     "data": {
      "text/plain": [
       "1500     674\n",
       "1200     588\n",
       "2500     576\n",
       "1000     565\n",
       "3500     496\n",
       "        ... \n",
       "11798      1\n",
       "17979      1\n",
       "7760       1\n",
       "15298      1\n",
       "2049       1\n",
       "Name: price, Length: 1580, dtype: int64"
      ]
     },
     "execution_count": 113,
     "metadata": {},
     "output_type": "execute_result"
    }
   ],
   "source": [
    "y_valid.value_counts()"
   ]
  },
  {
   "cell_type": "code",
   "execution_count": 114,
   "id": "b08475a6",
   "metadata": {},
   "outputs": [
    {
     "name": "stdout",
     "output_type": "stream",
     "text": [
      "Fit duration: 0.023847514763474464\n",
      "Prediction duration: 0.00668787956237793\n",
      "Linear Regression RMSE: 2945.7049049068305\n"
     ]
    }
   ],
   "source": [
    "lr = LinearRegression() \n",
    "\n",
    "lr_start_time1 = time.perf_counter()\n",
    "lr.fit(X_train_clean, \n",
    "       y_train) \n",
    "lr_end_time1 = time.perf_counter()\n",
    "\n",
    "lr_start_time2 = time.time()\n",
    "lr_pred = lr.predict(X_valid_clean) \n",
    "lr_end_time2 = time.time()\n",
    "\n",
    "lr_rmse = np.sqrt(mean_squared_error(y_valid, \n",
    "                                     lr_pred)) \n",
    "\n",
    "print(f'Fit duration: {lr_end_time1 - lr_start_time1}')\n",
    "print(f'Prediction duration: {lr_end_time2 - lr_start_time2}')\n",
    "print(f'Linear Regression RMSE: {lr_rmse}') "
   ]
  },
  {
   "cell_type": "markdown",
   "id": "2f0c3496",
   "metadata": {},
   "source": [
    "The results of our linear regression model are as follows: \n",
    "\n",
    "- Fit duration: 0.0242684343829751\n",
    "- Prediction duration: 0.007818222045898438\n",
    "- Linear Regression RMSE: 2973.58855843017\n",
    "\n",
    "This result establishes a baseline for model performance. While linear regression is fast and interpretable, its predictive accuracy is limited by its inability to capture complex, non-linear relationships in the data. The baseline RMSE will be used to assess improvements offered by more sophisticated models in subsequent sections. \n",
    "\n",
    "---"
   ]
  },
  {
   "cell_type": "markdown",
   "id": "730d2213",
   "metadata": {},
   "source": [
    "### 4.3 Decision Tree Regressor "
   ]
  },
  {
   "cell_type": "code",
   "execution_count": 115,
   "id": "8c89e609",
   "metadata": {},
   "outputs": [
    {
     "name": "stdout",
     "output_type": "stream",
     "text": [
      "Best depth: 12 with RMSE: 1932.23114\n",
      "Fit duration: 0.5976388454437256\n",
      "Prediction duration: 0.023632287979125977\n"
     ]
    }
   ],
   "source": [
    "\n",
    "best_depth = 0\n",
    "best_rmse = float('inf')\n",
    "\n",
    "dt_range = range(1, 101)\n",
    "for depth in dt_range:\n",
    "    dt = DecisionTreeRegressor(max_depth=depth, \n",
    "                               random_state=42) \n",
    "    dt_start_time1 = time.time()\n",
    "    dt.fit(X_train_clean, \n",
    "           y_train) \n",
    "    dt_end_time1 = time.time()\n",
    "    \n",
    "    dt_start_time2 = time.time() \n",
    "    pred_test = dt.predict(X_test_clean) \n",
    "    dt_end_time2 = time.time()\n",
    "    \n",
    "    rmse = np.sqrt(mean_squared_error(y_test, \n",
    "                                      pred_test)) \n",
    "    \n",
    "    if rmse < best_rmse:\n",
    "        best_rmse = rmse\n",
    "        best_depth = depth\n",
    "\n",
    "print(f'Best depth: {best_depth} with RMSE: {best_rmse:.5f}') \n",
    "print(f'Fit duration: {dt_end_time1 - dt_start_time1}')\n",
    "print(f'Prediction duration: {dt_end_time2 - dt_start_time2}')"
   ]
  },
  {
   "cell_type": "markdown",
   "id": "bbfc6feb",
   "metadata": {},
   "source": [
    "The results of our decision tree regressor are as follows: \n",
    "\n",
    "- Best depth: 13 with RMSE: 1957.03992\n",
    "- Fit duration: 0.5741589069366455\n",
    "- Prediction duration: 0.023706912994384766of\n",
    "\n",
    "This result demonstrates a significant improvement over the linear regression baseline, as the decision tree is able to capture non-linear relationships in the data. \n",
    "\n",
    "---"
   ]
  },
  {
   "cell_type": "markdown",
   "id": "185d1bea",
   "metadata": {},
   "source": [
    "### 4.4 Random Forest Regressor "
   ]
  },
  {
   "cell_type": "code",
   "execution_count": 116,
   "id": "a9ee97c2",
   "metadata": {},
   "outputs": [
    {
     "name": "stdout",
     "output_type": "stream",
     "text": [
      "Best depth: 17 with RMSE: 1654.01119\n",
      "Fit duration: 28.892218828201294\n",
      "Prediction duration: 0.7501599788665771\n"
     ]
    }
   ],
   "source": [
    "best_rmse = float('inf')\n",
    "best_depth = None\n",
    "\n",
    "rf_range = range(1, 18)\n",
    "for depth in rf_range:\n",
    "    rf = RandomForestRegressor(max_depth=depth, \n",
    "                               n_estimators=100, \n",
    "                               random_state=42) \n",
    "    rf_start_time1 = time.time()\n",
    "    rf.fit(X_train_clean,\n",
    "           y_train)\n",
    "    rf_end_time1 = time.time() \n",
    "    \n",
    "    rf_start_time2 = time.time() \n",
    "    pred_valid = rf.predict(X_valid_clean)\n",
    "    rf_end_time2 = time.time()\n",
    "    \n",
    "    rmse = np.sqrt(mean_squared_error(y_valid, \n",
    "                                      pred_valid)) \n",
    "    \n",
    "    if rmse < best_rmse:\n",
    "        best_rmse = rmse\n",
    "        best_depth = depth\n",
    "\n",
    "print(f'Best depth: {best_depth} with RMSE: {best_rmse:.5f}') \n",
    "print(f'Fit duration: {rf_end_time1 - rf_start_time1}')\n",
    "print(f'Prediction duration: {rf_end_time2 - rf_start_time2}')"
   ]
  },
  {
   "cell_type": "markdown",
   "id": "765937fe",
   "metadata": {},
   "source": [
    "The results of our random forest regressor are as follows: \n",
    "\n",
    "- Best depth: 17 with RMSE: 1649.31956\n",
    "- Fit duration: 29.07107710838318\n",
    "- Prediction duration: 0.7314462661743164\n",
    "with a maximum depth of 17.\n",
    "\n",
    "This result demonstrates a modest improvement over the linear regression baseline, as the random forest is able to capture complex, non-linear relationships in the data by aggregating the predictions of multiple decision trees. \n",
    "\n",
    "---"
   ]
  },
  {
   "cell_type": "markdown",
   "id": "a5aac771",
   "metadata": {},
   "source": [
    "### 4.5 Cat Boost"
   ]
  },
  {
   "cell_type": "code",
   "execution_count": 117,
   "id": "3d70c992",
   "metadata": {},
   "outputs": [
    {
     "name": "stdout",
     "output_type": "stream",
     "text": [
      "Best depth: 15\n",
      "Best RMSE: 1964.9628969846813\n",
      "Grid Search duration: 354.43848729133606\n",
      "Fit duration: 42.79141139984131\n",
      "Prediction duration: 0.022994041442871094\n"
     ]
    }
   ],
   "source": [
    "param_grid = {\n",
    "    'depth': [1, 3, 5, 7, 9, 11, 13, 15], \n",
    "    'iterations': [200],\n",
    "    'learning_rate': [0.01],\n",
    "    'l2_leaf_reg': [3],\n",
    "    'loss_function': ['RMSE']\n",
    "}\n",
    "\n",
    "cbr_model = CatBoostRegressor(verbose=0)\n",
    "\n",
    "grid_search = GridSearchCV(estimator=cbr_model, \n",
    "                           param_grid=param_grid, \n",
    "                           scoring='neg_mean_squared_error', \n",
    "                           cv=5)\n",
    "\n",
    "cbr_start_time0 = time.time()\n",
    "grid_search.fit(X_train_clean, \n",
    "                y_train)\n",
    "cbr_end_time0 = time.time() \n",
    "\n",
    "best_params = grid_search.best_params_\n",
    "best_depth = best_params['depth']\n",
    "\n",
    "cbr_model = CatBoostRegressor(**best_params, \n",
    "                                verbose=0)\n",
    "cbr_start_time1 = time.time()\n",
    "cbr_model.fit(X_train_clean, \n",
    "              y_train) \n",
    "cbr_end_time1 = time.time()\n",
    "\n",
    "cbr_start_time2 = time.time()\n",
    "cbr_pred = cbr_model.predict(X_valid_clean) \n",
    "cbr_end_time2 = time.time()\n",
    "\n",
    "rmse = np.sqrt(mean_squared_error(y_valid,  \n",
    "                                  cbr_pred)) \n",
    "\n",
    "best_rmse = float('inf')\n",
    "if rmse < best_rmse:\n",
    "    best_rmse = rmse\n",
    "    \n",
    "print(f'Best depth: {best_depth}\\nBest RMSE: {best_rmse}') \n",
    "print(f'Grid Search duration: {cbr_end_time0 - cbr_start_time0}')\n",
    "print(f'Fit duration: {cbr_end_time1 - cbr_start_time1}')\n",
    "print(f'Prediction duration: {cbr_end_time2 - cbr_start_time2}')\n"
   ]
  },
  {
   "cell_type": "markdown",
   "id": "afadf169",
   "metadata": {},
   "source": [
    "The results of our CatBoost regressor are as follows: \n",
    "\n",
    "\n",
    "- Best depth: 15\n",
    "- Best RMSE: 1971.6658332280786\n",
    "- Grid Search duration: 355.56914949417114\n",
    "- Fit duration: 42.51437973976135\n",
    "- Prediction duration: 0.021839618682861328\n",
    "\n",
    "\n",
    "with a best depth of 15. This result demonstrates a great improvement over the linear regression baseline, as CatBoost is able to capture complex, non-linear relationships in the data. \n",
    "\n",
    "---"
   ]
  },
  {
   "cell_type": "markdown",
   "id": "2a3e574f",
   "metadata": {},
   "source": [
    "### 4.6 LGBM Regressor"
   ]
  },
  {
   "cell_type": "code",
   "execution_count": 118,
   "id": "ba0da81a",
   "metadata": {},
   "outputs": [
    {
     "name": "stdout",
     "output_type": "stream",
     "text": [
      "Average RMSE: 1830.9597677127588\n",
      "Fit duration: 1.4808342456817627\n",
      "Prediction duration: 0.11704349517822266\n"
     ]
    }
   ],
   "source": [
    "lgbmr = LGBMRegressor(\n",
    "    num_leaves=31,\n",
    "    learning_rate=0.05,\n",
    "    n_estimators=100,\n",
    "    max_depth=5,\n",
    "    random_state=42\n",
    "    )\n",
    "\n",
    "lgbm_start_time1 = time.time()\n",
    "lgbmr.fit(X_train_clean, \n",
    "          y_train) \n",
    "lgbm_end_time1 = time.time()\n",
    "\n",
    "lgbm_start_time2 = time.time()\n",
    "pred_valid = lgbmr.predict(X_valid_clean) \n",
    "lgbm_end_time2 = time.time()\n",
    "    \n",
    "mse = mean_squared_error(y_valid, \n",
    "                         pred_valid)\n",
    "\n",
    "rmse = np.sqrt(mean_squared_error(y_valid, \n",
    "                                  pred_valid))\n",
    "\n",
    "rmse_mean = np.mean(rmse)\n",
    "print(\"Average RMSE:\", rmse_mean) \n",
    "print(f'Fit duration: {lgbm_end_time1 - lgbm_start_time1}')\n",
    "print(f'Prediction duration: {lgbm_end_time2 - lgbm_start_time2}')"
   ]
  },
  {
   "cell_type": "markdown",
   "id": "ef1f9fba",
   "metadata": {},
   "source": [
    "The results of our LightGBM regressor are as follows: \n",
    "- Average RMSE: 1840.791321239037\n",
    "- Fit duration: 2.2811193466186523\n",
    "- Prediction duration: 0.18920302391052246\n",
    "\n",
    "This result is a decent score– though the Random Forest and LGBM performed better.It should be noted though that LightGBM effectively captures complex, non-linear relationships in the data. "
   ]
  },
  {
   "cell_type": "markdown",
   "id": "447cbfdc",
   "metadata": {},
   "source": [
    "### 4.7 XGB Regressor"
   ]
  },
  {
   "cell_type": "code",
   "execution_count": 119,
   "id": "e55e9af5",
   "metadata": {},
   "outputs": [
    {
     "name": "stdout",
     "output_type": "stream",
     "text": [
      "RMSE for XGBoost: 1622.464051230085\n",
      "Fit duration: 15.779890060424805\n",
      "Prediction duration: 0.01602315902709961\n"
     ]
    }
   ],
   "source": [
    "xgbr = XGBRegressor()\n",
    "\n",
    "xgbr_start_time1 = time.time()\n",
    "xgbr.fit(X_train_clean, \n",
    "         y_train) \n",
    "xgbr_end_time1 = time.time()\n",
    "\n",
    "xgbr_start_time2 = time.time()\n",
    "xgbr_pred = xgbr.predict(X_valid_clean)\n",
    "xgbr_end_time2 = time.time()\n",
    "\n",
    "rmse = np.sqrt(mean_squared_error(y_valid, \n",
    "                                  xgbr_pred))\n",
    "print(f\"RMSE for XGBoost: {rmse}\") \n",
    "\n",
    "print(f'Fit duration: {xgbr_end_time1 - xgbr_start_time1}')\n",
    "print(f'Prediction duration: {xgbr_end_time2 - xgbr_start_time2}')"
   ]
  },
  {
   "cell_type": "markdown",
   "id": "97a93885",
   "metadata": {},
   "source": [
    "The results of the XGBoost regressor are as follows: \n",
    "- RMSE for XGBoost: 1625.7757552637643\n",
    "- Fit duration: 15.147888898849487\n",
    "- Prediction duration: 0.015588998794555664\n",
    " \n",
    "This result demonstrates a significant improvement over the linear regression baseline and all previous models, as XGBoost is able to capture complex, non-linear relationships in the data through gradient boosting. Not only that, but the computational speed of it is quite impressive.\n",
    "\n",
    "---"
   ]
  },
  {
   "cell_type": "markdown",
   "id": "5a1164eb-09f5-4ee7-a930-dc66c49117e9",
   "metadata": {},
   "source": [
    "### 4.8 Best Model \n",
    "In this section, we'll create an XGB regressor model and pass it the test set, using the same method as above. I've chosen this modeel because it has a reasonable performance time and it yields the best RMSE."
   ]
  },
  {
   "cell_type": "code",
   "execution_count": 122,
   "id": "454f31db-8c09-4e11-9568-0cb4de3b3e2b",
   "metadata": {},
   "outputs": [
    {
     "name": "stdout",
     "output_type": "stream",
     "text": [
      "RMSE for XGBoost: 1632.1024086067546\n",
      "Fit duration: 14.358523607254028\n",
      "Prediction duration: 0.01848602294921875\n"
     ]
    }
   ],
   "source": [
    "xgbr_final = XGBRegressor()\n",
    "\n",
    "xgbr_final_start_time1 = time.time()\n",
    "xgbr_final.fit(X_train_clean, \n",
    "               y_train) \n",
    "xgbr_final_end_time1 = time.time()\n",
    "\n",
    "xgbr_final_start_time2 = time.time()\n",
    "xgbr_final_pred = xgbr.predict(X_test_clean)\n",
    "xgbr_final_end_time2 = time.time()\n",
    "\n",
    "rmse = np.sqrt(mean_squared_error(y_test, \n",
    "                                  xgbr_final_pred))\n",
    "print(f\"RMSE for XGBoost: {rmse}\") \n",
    "\n",
    "print(f'Fit duration: {xgbr_final_end_time1 - xgbr_final_start_time1}')\n",
    "print(f'Prediction duration: {xgbr_final_end_time2 - xgbr_final_start_time2}')"
   ]
  },
  {
   "cell_type": "markdown",
   "id": "74d85bb5-6f9d-4082-ad1f-1a4bbd4c8910",
   "metadata": {},
   "source": [
    "Our final model yielded these results: \n",
    "- RMSE for XGBoost: 1632.1024086067546\n",
    "- Fit duration: 14.358523607254028\n",
    "- Prediction duration: 0.01848602294921875\n",
    "\n",
    "This result demonstrates the reliability of the XGB Regressor to outperform the other models while also having great efficiency. "
   ]
  },
  {
   "cell_type": "markdown",
   "id": "0528d8ae",
   "metadata": {},
   "source": [
    "### 4.9 Chapter 4 Summary \n",
    "\n",
    "In Chapter 4, we developed and evaluated several machine learning models to predict used car prices. We began by encoding categorical features using ordinal encoding and splitting the data into training, validation, and test sets to ensure robust model evaluation.\n",
    "\n",
    "**Reminder of RMSEs & durations:**\n",
    "\n",
    "- Linear Regression\n",
    "    - Fit duration: 0.0242684343829751\n",
    "    - Prediction duration: 0.007818222045898438\n",
    "    - Linear Regression RMSE: 2973.58855843017\n",
    "\n",
    "- Descision Tree Regressor\n",
    "    - Best depth: 13 with RMSE: 1957.03992\n",
    "    - Fit duration: 0.5741589069366455\n",
    "    - Prediction duration: 0.023706912994384766\n",
    "\n",
    "- Random Forest Regressor \n",
    "    - Best depth: 17 with RMSE: 1649.31956\n",
    "    - Fit duration: 29.07107710838318\n",
    "    - Prediction duration: 0.7314462661743164 \n",
    "\n",
    "- CatBoost \n",
    "    - Best depth: 15 with RMSE: 1971.6658332280786\n",
    "    - Grid Search duration: 355.56914949417114\n",
    "    - Fit duration: 42.51437973976135\n",
    "    - Prediction duration: 0.021839618682861328\n",
    "\n",
    "- LGBM Regressor\n",
    "    - Average RMSE: 1840.791321239037\n",
    "    - Fit duration: 2.2811193466186523\n",
    "    - Prediction duration: 0.18920302391052246\n",
    "\n",
    "- XGB Regressor\n",
    "    - RMSE for XGBoost: 1625.7757552637643\n",
    "    - Fit duration: 15.147888898849487\n",
    "    - Prediction duration: 0.015588998794555664\n",
    "\n",
    "- Final Model (XGB Regressor)\n",
    "    - RMSE for XGBoost: 1632.1024086067546\n",
    "    - Fit duration: 14.358523607254028\n",
    "    - Prediction duration: 0.01848602294921875\n",
    "\n",
    "We established a baseline with linear regression (RMSE ≈ 2974), then improved performance using decision trees (RMSE ≈ 1957) and random forests (both RMSE ≈ 1649). Gradient boosting models, including CatBoost (RMSE ≈ 1972), LightGBM (RMSE ≈ 1841), and XGBoost (RMSE ≈ 1626), further reduced prediction error, with XGBoost achieving the best results. As a result, we used the XGB Regressor as our final model, and it achieved an RMSE of 1632–quite close to our initial XGB Regressos.\n",
    "\n",
    "Throughout the process, we tuned hyperparameters and compared models using the RMSE metric. The results demonstrate that advanced ensemble methods, particularly XGBoost, provide the most accurate price predictions for this dataset. \n",
    "\n",
    "\n",
    "---\n",
    "---"
   ]
  },
  {
   "cell_type": "markdown",
   "id": "bafbe702",
   "metadata": {},
   "source": [
    "# 5.0 Conclusion \n",
    "\n",
    "\n",
    "In this project, we systematically explored, cleaned, and modeled a large used car dataset to predict vehicle prices with high accuracy. Our workflow began with comprehensive data preprocessing, including handling missing values in categorical features using the mode, removing duplicates, and filtering out implausible values in key numerical columns such as `registration_year` and `power`. This ensured a clean and reliable dataset for analysis.\n",
    "\n",
    "Through exploratory data analysis (EDA), we gained valuable insights into the structure and distribution of each feature. We observed that the target variable, `price`, is heavily right-skewed, with most vehicles clustered at lower price points. Categorical features such as `vehicle_type`, `gearbox`, `fuel_type`, and `brand` revealed dominant categories, while the kilometers feature showed an unusual distribution, possibly due to synthetic or rounded data. These findings informed our preprocessing and modeling strategies.\n",
    "\n",
    "For modeling, we encoded categorical variables using ordinal encoding and split the data into training, validation, and test sets to ensure robust evaluation. We established a baseline with linear regression (RMSE ≈ 2974), then improved performance using decision trees (RMSE ≈ 1957) and random forests (RMSE ≈ 1641). Advanced gradient boosting models, including CatBoost (RMSE ≈ 1972), LightGBM (RMSE ≈ 1841), and XGBoost (RMSE ≈ 1626), further reduced prediction error, with XGBoost achieving the best results. As a result, we used XGB as our final model and achieved an RMSE of 1632. The model also has amazing efficiency and would serve as the best model for the task at hand.\n",
    "\n",
    "Throughout the process, we tuned hyperparameters and compared models using the RMSE metric. The results demonstrate that ensemble methods, particularly XGBoost, provide the most accurate price predictions for this dataset in addition. Our approach balanced accuracy with interpretability and computational efficiency, making it suitable for real-world deployment in applications such as the Rusty Bargain app.\n",
    "\n",
    "In summary, this project highlights the importance of thorough data cleaning, insightful EDA, and careful model selection in building effective machine learning solutions for structured data. The workflow and findings here can serve as a blueprint for similar regression tasks in the automotive domain and beyond. \n",
    "\n",
    "---"
   ]
  }
 ],
 "metadata": {
  "kernelspec": {
   "display_name": "notebook-",
   "language": "python",
   "name": "python3"
  },
  "language_info": {
   "codemirror_mode": {
    "name": "ipython",
    "version": 3
   },
   "file_extension": ".py",
   "mimetype": "text/x-python",
   "name": "python",
   "nbconvert_exporter": "python",
   "pygments_lexer": "ipython3",
   "version": "3.12.9"
  }
 },
 "nbformat": 4,
 "nbformat_minor": 5
}
